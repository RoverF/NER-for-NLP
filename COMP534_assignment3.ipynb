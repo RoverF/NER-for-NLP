{
  "nbformat": 4,
  "nbformat_minor": 0,
  "metadata": {
    "colab": {
      "provenance": []
    },
    "kernelspec": {
      "name": "python3",
      "display_name": "Python 3"
    },
    "language_info": {
      "name": "python"
    }
  },
  "cells": [
    {
      "cell_type": "markdown",
      "source": [
        "---\n",
        "\n",
        "# University of Liverpool\n",
        "\n",
        "## COMP534 - Applied AI\n",
        "\n",
        "---"
      ],
      "metadata": {
        "id": "4i5afvUbhmGo"
      }
    },
    {
      "cell_type": "markdown",
      "source": [
        "This notebook is associated with Assignment 3. Use it to complete the assignment by following the instructions provided in each section. Each section includes a text cell outlining the requirements. For additional details, refer to Canvas."
      ],
      "metadata": {
        "id": "CpEqsZpRKtkE"
      }
    },
    {
      "cell_type": "markdown",
      "source": [
        "Use this first cell to import the necessary libraries."
      ],
      "metadata": {
        "id": "bwGBUHRSKvf1"
      }
    },
    {
      "cell_type": "code",
      "source": [
        "# create more cells if necessary\n",
        "\n"
      ],
      "metadata": {
        "id": "-8CXq-vKp7eV"
      },
      "execution_count": null,
      "outputs": []
    },
    {
      "cell_type": "markdown",
      "source": [
        "# 1. **Data Management**\n",
        "\n",
        "\n",
        "In this part, you need to:\n",
        "\n",
        "1.  define your experimental protocol (such as k-fold, cross validation, etc);\n",
        "2.\tcreate the dataloader to load the data.\n",
        "\n"
      ],
      "metadata": {
        "id": "hglJVRRslqMn"
      }
    },
    {
      "cell_type": "code",
      "source": [
        "# create more cells if necessary\n",
        "\n"
      ],
      "metadata": {
        "id": "szQFlMDMJYEh"
      },
      "execution_count": null,
      "outputs": []
    },
    {
      "cell_type": "code",
      "source": [
        "# create more cells if necessary\n",
        "\n"
      ],
      "metadata": {
        "id": "_ExKnSiapMLm"
      },
      "execution_count": null,
      "outputs": []
    },
    {
      "cell_type": "markdown",
      "source": [
        "---\n",
        "\n",
        "# 2. **Neural Networks**\n",
        "\n",
        "Here, you need to:\n",
        "\n",
        "1.\tcreate a Recurrent Neural Network (RNN) (such as RNN, GRU, LSTM) to tackle the problem;\n",
        "2.\tcreate a Transformer Network to tackle the problem;\n",
        "3.\tdefine the necessary components to train the networks (that is, loss function, optimizers, etc);\n",
        "4.\ttrain the models;\n",
        "5.\tfor all training procedures, separately plot the loss and accuracy with respect to the epoch/iteration."
      ],
      "metadata": {
        "id": "ScTrpUW8zOp4"
      }
    },
    {
      "cell_type": "code",
      "source": [
        "# create more cells if necessary\n",
        "\n"
      ],
      "metadata": {
        "id": "X9IIDAjO1iw-"
      },
      "execution_count": null,
      "outputs": []
    },
    {
      "cell_type": "code",
      "source": [
        "# create more cells if necessary\n",
        "\n"
      ],
      "metadata": {
        "id": "oEHh2w7HURHZ"
      },
      "execution_count": null,
      "outputs": []
    },
    {
      "cell_type": "markdown",
      "source": [
        "---\n",
        "\n",
        "# 3. **Evaluate models**\n",
        "\n",
        "Here, you need to:\n",
        "\n",
        "1.\tevaluate the model (the best ones you obtained in the above stage).\n"
      ],
      "metadata": {
        "id": "3RBW58of0ZDo"
      }
    },
    {
      "cell_type": "code",
      "source": [
        "# create more cells if necessary\n",
        "\n",
        "\n"
      ],
      "metadata": {
        "id": "jHWwdXg32BEl"
      },
      "execution_count": null,
      "outputs": []
    }
  ]
}