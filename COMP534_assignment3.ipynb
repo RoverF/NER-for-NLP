{
  "cells": [
    {
      "cell_type": "markdown",
      "metadata": {
        "id": "4i5afvUbhmGo"
      },
      "source": [
        "---\n",
        "\n",
        "# University of Liverpool\n",
        "\n",
        "## COMP534 - Applied AI\n",
        "\n",
        "---"
      ]
    },
    {
      "cell_type": "markdown",
      "metadata": {
        "id": "CpEqsZpRKtkE"
      },
      "source": [
        "This notebook is associated with Assignment 3. Use it to complete the assignment by following the instructions provided in each section. Each section includes a text cell outlining the requirements. For additional details, refer to Canvas."
      ]
    },
    {
      "cell_type": "markdown",
      "metadata": {
        "id": "bwGBUHRSKvf1"
      },
      "source": [
        "Use this first cell to import the necessary libraries."
      ]
    },
    {
      "cell_type": "code",
      "execution_count": 241,
      "metadata": {
        "id": "-8CXq-vKp7eV"
      },
      "outputs": [],
      "source": [
        "import torch\n",
        "import math\n",
        "import numpy as np\n",
        "import pandas as pd\n",
        "import seaborn as sns\n",
        "import matplotlib.pyplot as plt\n",
        "import torch.nn as nn\n",
        "import torch.optim as optim\n",
        "import torch.utils.data as data\n",
        "from torch.nn.utils.rnn import pad_sequence\n",
        "from sklearn.metrics import balanced_accuracy_score, confusion_matrix, classification_report\n",
        "from sklearn.model_selection import train_test_split\n"
      ]
    },
    {
      "cell_type": "markdown",
      "metadata": {
        "id": "hglJVRRslqMn"
      },
      "source": [
        "# 1. **Data Management**\n",
        "\n",
        "\n",
        "In this part, you need to:\n",
        "\n",
        "1.  define your experimental protocol (such as k-fold, cross validation, etc);\n",
        "2.\tcreate the dataloader to load the data.\n",
        "\n"
      ]
    },
    {
      "cell_type": "code",
      "execution_count": 242,
      "metadata": {
        "id": "szQFlMDMJYEh"
      },
      "outputs": [],
      "source": [
        "def read_data(file_path):\n",
        "    sentences = []\n",
        "    current_sentence = []\n",
        "    with open(file_path, 'r', encoding='utf-8') as f:\n",
        "        for line in f:\n",
        "            line = line.strip()\n",
        "            if not line:\n",
        "                if current_sentence:\n",
        "                    sentences.append(current_sentence)\n",
        "                    current_sentence = []\n",
        "            else:\n",
        "                parts = line.split(' ', 1)  # Split into word and tag\n",
        "                if len(parts) == 2:\n",
        "                    word, tag = parts\n",
        "                    current_sentence.append((word, tag))\n",
        "        if current_sentence:\n",
        "            sentences.append(current_sentence)\n",
        "    return sentences\n",
        "\n",
        "\n",
        "def build_vocab(sentences):\n",
        "    word_counts = {}\n",
        "    for sentence in sentences:\n",
        "        for word, tag in sentence:\n",
        "            word_counts[word] = word_counts.get(word, 0) + 1\n",
        "    word_to_ix = {'<PAD>': 0, '<UNK>': 1}\n",
        "    for word in word_counts:\n",
        "        word_to_ix[word] = len(word_to_ix)\n",
        "    return word_to_ix\n",
        "\n",
        "\n",
        "class NERDataset(data.Dataset):\n",
        "    def __init__(self, sentences, word_to_ix, tag_to_ix):\n",
        "        self.sentences = sentences\n",
        "        self.word_to_ix = word_to_ix\n",
        "        self.tag_to_ix = tag_to_ix\n",
        "\n",
        "    def __len__(self):\n",
        "        return len(self.sentences)\n",
        "\n",
        "    def __getitem__(self, idx):\n",
        "        sentence = self.sentences[idx]\n",
        "        word_indices = [self.word_to_ix.get(word, self.word_to_ix['<UNK>']) for word, _ in sentence]\n",
        "        tag_indices = [self.tag_to_ix[tag] for _, tag in sentence]\n",
        "        return torch.tensor(word_indices, dtype=torch.long), torch.tensor(tag_indices, dtype=torch.long)\n",
        "\n",
        "\n",
        "def collate_fn(batch):\n",
        "    inputs, targets = zip(*batch)\n",
        "    inputs_padded = pad_sequence(inputs, batch_first=True, padding_value=0)\n",
        "    targets_padded = pad_sequence(targets, batch_first=True, padding_value=-100)\n",
        "    return inputs_padded, targets_padded\n"
      ]
    },
    {
      "cell_type": "code",
      "execution_count": 243,
      "metadata": {
        "id": "_ExKnSiapMLm"
      },
      "outputs": [],
      "source": [
        "# Set device\n",
        "device = torch.device(\"cuda\" if torch.cuda.is_available() else \"cpu\")\n",
        "\n",
        "# Read all sentences\n",
        "file_path = \"ner_dataset.txt\"\n",
        "sentences = read_data(file_path)\n",
        "\n",
        "# Split into train (70%), temp (30%)\n",
        "train_sentences, temp_sentences = train_test_split(sentences, test_size=0.3,\n",
        "                                                   random_state=42)\n",
        "\n",
        "# Split temp into validation (50%) and test (50%) (each 15% of total)\n",
        "val_sentences, test_sentences = train_test_split(temp_sentences,\n",
        "                                                 test_size=0.5, random_state=42)\n",
        "\n",
        "# Create vocabs\n",
        "tag_to_ix = {'O': 0, 'I-LOC': 1, 'I-PER': 2, 'I-ORG': 3, 'I-MISC': 4}\n",
        "word_to_ix = build_vocab(train_sentences)\n",
        "\n",
        "# Create datasets\n",
        "train_dataset = NERDataset(train_sentences, word_to_ix, tag_to_ix)\n",
        "val_dataset = NERDataset(val_sentences, word_to_ix, tag_to_ix)\n",
        "test_dataset = NERDataset(test_sentences, word_to_ix, tag_to_ix)\n",
        "\n",
        "# Create dataloaders\n",
        "train_dataloader = data.DataLoader(\n",
        "    train_dataset, batch_size=32, shuffle=True, collate_fn=collate_fn\n",
        ")\n",
        "\n",
        "val_dataloader = data.DataLoader(\n",
        "    val_dataset, batch_size=32, shuffle=False, collate_fn=collate_fn\n",
        ")\n",
        "\n",
        "test_dataloader = data.DataLoader(\n",
        "    test_dataset, batch_size=32, shuffle=False, collate_fn=collate_fn\n",
        ")\n",
        "\n",
        "\n"
      ]
    },
    {
      "cell_type": "markdown",
      "metadata": {
        "id": "ScTrpUW8zOp4"
      },
      "source": [
        "---\n",
        "\n",
        "# 2. **Neural Networks**\n",
        "\n",
        "Here, you need to:\n",
        "\n",
        "1.\tcreate a Recurrent Neural Network (RNN) (such as RNN, GRU, LSTM) to tackle the problem;\n",
        "2.\tcreate a Transformer Network to tackle the problem;\n",
        "3.\tdefine the necessary components to train the networks (that is, loss function, optimizers, etc);\n",
        "4.\ttrain the models;\n",
        "5.\tfor all training procedures, separately plot the loss and accuracy with respect to the epoch/iteration."
      ]
    },
    {
      "cell_type": "markdown",
      "metadata": {},
      "source": [
        "Bidirectional LSTM"
      ]
    },
    {
      "cell_type": "code",
      "execution_count": 244,
      "metadata": {
        "id": "X9IIDAjO1iw-"
      },
      "outputs": [],
      "source": [
        "# Define our BiLSTM\n",
        "\n",
        "class BiLSTM(nn.Module):\n",
        "    #define the parent Model\n",
        "    def __init__(self, vocab_size, embedding_dim, hidden_dim, output_dim, num_layers=1, dropout=0.3):\n",
        "        super(BiLSTM,self).__init__()\n",
        "        # Embedding layer to convert word indices to vectors\n",
        "        self.embedding = nn.Embedding(vocab_size, embedding_dim)\n",
        "        # BiLSTM layer\n",
        "        self.lstm = nn.LSTM(embedding_dim, hidden_dim, num_layers=num_layers, bidirectional=True, batch_first=True)\n",
        "        # Fully connected layer to map to output dimensions (*2 -- bidirectional)\n",
        "        self.fc = nn.Linear(hidden_dim * 2, output_dim) \n",
        "        # Dropout layer for regularization\n",
        "        self.dropout = nn.Dropout(dropout)\n",
        "\n",
        "    # Define the forward pass\n",
        "    def forward(self, x):\n",
        "        # Embed the input and apply dropout\n",
        "        embedded = self.dropout(self.embedding(x))\n",
        "        # Pass through the BiLSTM\n",
        "        lstm_out, _ = self.lstm(embedded) \n",
        "        # Apply dropout to the LSTM output\n",
        "        lstm_out = self.dropout(lstm_out)\n",
        "        # Pass through the fully connected layer to get logits\n",
        "        logits = self.fc(lstm_out)\n",
        "        return logits.view(-1,5)\n",
        "    "
      ]
    },
    {
      "cell_type": "markdown",
      "metadata": {},
      "source": [
        "**Transformer**"
      ]
    },
    {
      "cell_type": "code",
      "execution_count": 245,
      "metadata": {
        "id": "oEHh2w7HURHZ"
      },
      "outputs": [],
      "source": [
        "class MultiHeadAttention(nn.Module):\n",
        "    def __init__(self, d_model, num_heads):\n",
        "        super(MultiHeadAttention, self).__init__()\n",
        "        # Ensure that the model dimension (d_model) is divisible by the number of heads\n",
        "        assert d_model % num_heads == 0, \"d_model must be divisible by num_heads\"\n",
        "        \n",
        "        # Initialize dimensions\n",
        "        self.d_model = d_model # Model's dimension\n",
        "        self.num_heads = num_heads # Number of attention heads\n",
        "        self.d_k = d_model // num_heads # Dimension of each head's key, query, and value\n",
        "        \n",
        "        # Linear layers for transforming inputs\n",
        "        self.W_q = nn.Linear(d_model, d_model) # Query transformation\n",
        "        self.W_k = nn.Linear(d_model, d_model) # Key transformation\n",
        "        self.W_v = nn.Linear(d_model, d_model) # Value transformation\n",
        "        self.W_o = nn.Linear(d_model, d_model) # Output transformation\n",
        "        \n",
        "    def scaled_dot_product_attention(self, Q, K, V, mask=None):\n",
        "        # Calculate attention scores\n",
        "        attn_scores = torch.matmul(Q, K.transpose(-2, -1)) / math.sqrt(self.d_k)\n",
        "        \n",
        "        # Apply mask if provided (useful for preventing attention to certain parts like padding)\n",
        "        if mask is not None:\n",
        "            attn_scores = attn_scores.masked_fill(mask == 0, -1e9)\n",
        "        \n",
        "        # Softmax is applied to obtain attention probabilities\n",
        "        attn_probs = torch.softmax(attn_scores, dim=-1)\n",
        "        \n",
        "        # Multiply by values to obtain the final output\n",
        "        output = torch.matmul(attn_probs, V)\n",
        "        return output\n",
        "        \n",
        "    def split_heads(self, x):\n",
        "        # Reshape the input to have num_heads for multi-head attention\n",
        "        batch_size, seq_length, d_model = x.size()\n",
        "        return x.view(batch_size, seq_length, self.num_heads, self.d_k).transpose(1, 2)\n",
        "        \n",
        "    def combine_heads(self, x):\n",
        "        # Combine the multiple heads back to original shape\n",
        "        batch_size, _, seq_length, d_k = x.size()\n",
        "        return x.transpose(1, 2).contiguous().view(batch_size, seq_length, self.d_model)\n",
        "        \n",
        "    def forward(self, Q, K, V, mask=None):\n",
        "        # Apply linear transformations and split heads\n",
        "        Q = self.split_heads(self.W_q(Q))\n",
        "        K = self.split_heads(self.W_k(K))\n",
        "        V = self.split_heads(self.W_v(V))\n",
        "        \n",
        "        # Perform scaled dot-product attention\n",
        "        attn_output = self.scaled_dot_product_attention(Q, K, V, mask)\n",
        "        \n",
        "        # Combine heads and apply output transformation\n",
        "        output = self.W_o(self.combine_heads(attn_output))\n",
        "        return output\n",
        "\n",
        "\n",
        "class PositionWiseFeedForward(nn.Module):\n",
        "    def __init__(self, d_model, d_ff):\n",
        "        super(PositionWiseFeedForward, self).__init__()\n",
        "        self.fc1 = nn.Linear(d_model, d_ff)\n",
        "        self.fc2 = nn.Linear(d_ff, d_model)\n",
        "        self.relu = nn.ReLU()\n",
        "\n",
        "    def forward(self, x):\n",
        "        return self.fc2(self.relu(self.fc1(x)))\n",
        "    \n",
        "class PositionalEncoding(nn.Module):\n",
        "    def __init__(self, d_model, max_seq_length):\n",
        "        super(PositionalEncoding, self).__init__()\n",
        "        \n",
        "        pe = torch.zeros(max_seq_length, d_model)\n",
        "        position = torch.arange(0, max_seq_length, dtype=torch.float).unsqueeze(1)\n",
        "        div_term = torch.exp(torch.arange(0, d_model, 2).float() * -(math.log(10000.0) / d_model))\n",
        "        \n",
        "        pe[:, 0::2] = torch.sin(position * div_term)\n",
        "        pe[:, 1::2] = torch.cos(position * div_term)\n",
        "        \n",
        "        self.register_buffer('pe', pe.unsqueeze(0))\n",
        "        \n",
        "    def forward(self, x):\n",
        "        return x + self.pe[:, :x.size(1)]\n",
        "    \n",
        "class EncoderLayer(nn.Module):\n",
        "    def __init__(self, d_model, num_heads, d_ff, dropout):\n",
        "        super(EncoderLayer, self).__init__()\n",
        "        self.self_attn = MultiHeadAttention(d_model, num_heads)\n",
        "        self.feed_forward = PositionWiseFeedForward(d_model, d_ff)\n",
        "        self.norm1 = nn.LayerNorm(d_model)\n",
        "        self.norm2 = nn.LayerNorm(d_model)\n",
        "        self.dropout = nn.Dropout(dropout)\n",
        "        \n",
        "    def forward(self, x, mask):\n",
        "        attn_output = self.self_attn(x, x, x, mask)\n",
        "        x = self.norm1(x + self.dropout(attn_output))\n",
        "        ff_output = self.feed_forward(x)\n",
        "        x = self.norm2(x + self.dropout(ff_output))\n",
        "        return x\n",
        "    \n",
        "\n",
        "class TransformerNER(nn.Module):\n",
        "    def __init__(self, vocab_size, tagset_size, d_model, num_heads, num_layers, d_ff, max_seq_length, dropout, pad_idx=0):\n",
        "        super(TransformerNER, self).__init__()\n",
        "        self.embedding = nn.Embedding(vocab_size, d_model, padding_idx=pad_idx)\n",
        "        self.positional_encoding = PositionalEncoding(d_model, max_seq_length)\n",
        "\n",
        "        self.encoder_layers = nn.ModuleList([\n",
        "            EncoderLayer(d_model, num_heads, d_ff, dropout)\n",
        "            for _ in range(num_layers)\n",
        "        ])\n",
        "\n",
        "        self.fc = nn.Linear(d_model, tagset_size)\n",
        "        self.dropout = nn.Dropout(dropout)\n",
        "\n",
        "    def forward(self, src):\n",
        "        # Create padding mask: shape [batch, 1, 1, seq_len]\n",
        "        src_mask = (src != 0).unsqueeze(1).unsqueeze(2)\n",
        "\n",
        "        x = self.embedding(src)\n",
        "        x = self.positional_encoding(x)\n",
        "        x = self.dropout(x)\n",
        "\n",
        "        for layer in self.encoder_layers:\n",
        "            x = layer(x, src_mask)\n",
        "\n",
        "        output = self.fc(x)\n",
        "        return output.view(-1,5)"
      ]
    },
    {
      "cell_type": "code",
      "execution_count": null,
      "metadata": {},
      "outputs": [],
      "source": [
        "# Define an accuracy function to deal with the padded values\n",
        "def masked_accuracy(y_true, y_pred):\n",
        "    \"\"\"\n",
        "    Calculate masked accuracy for predicted labels.\n",
        "\n",
        "    Parameters:\n",
        "    y_true (tensor): True labels.\n",
        "    y_pred (tensor): Predicted logits.\n",
        "\n",
        "    Returns:\n",
        "    accuracy (tensor): Masked accuracy.\n",
        "\n",
        "    \"\"\"\n",
        "    # Create the mask, i.e., the values that will be ignored\n",
        "    mask = (y_true != -100)\n",
        "\n",
        "    # Perform argmax to get the predicted values\n",
        "    y_pred_class = y_pred.argmax(axis=-1)\n",
        "\n",
        "    # Compare the true values with the predicted ones\n",
        "    matches_true_pred = (y_true == y_pred_class) and mask\n",
        "    print(matches_true_pred)\n",
        "    print(mask)\n",
        "\n",
        "    # Compute masked accuracy (quotient between the total matches and the total valid values, i.e., the amount of non-masked values)\n",
        "    masked_acc = torch.sum(matches_true_pred) / torch.sum(mask)\n",
        "    \n",
        "    return masked_acc\n"
      ]
    },
    {
      "cell_type": "code",
      "execution_count": null,
      "metadata": {},
      "outputs": [],
      "source": [
        "# Define a training loop\n",
        "def train(dataloader, model, criterion, optimizer, epoch):\n",
        "    model.train()\n",
        "    for sentences, labels in dataloader:\n",
        "        optimizer.zero_grad()\n",
        "        output = model(sentences)\n",
        "        loss = criterion(output, labels.view(-1))\n",
        "        loss.backward()\n",
        "        optimizer.step()\n",
        "    bacc = masked_accuracy(labels.view(-1).numpy(), output.argmax(dim=-1).cpu().numpy())\n",
        "    print(f\"TRAIN -- Epoch {epoch+1}, Loss: {loss.item():.4f}, Balanced Accuracy: {bacc:.4f}\")\n",
        "    return bacc, loss.item()\n",
        "\n",
        "def validation(dataloader, model):\n",
        "    model.eval()\n",
        "    all_preds = []\n",
        "    all_labels = []\n",
        "\n",
        "    with torch.no_grad():\n",
        "        for sentences, labels in dataloader:\n",
        "            output = model(sentences)\n",
        "            all_preds.append(output.argmax(dim=-1).cpu().numpy())\n",
        "            all_labels.append(labels.view(-1).cpu().numpy())\n",
        "\n",
        "        all_preds = np.concatenate(all_preds, axis=0)\n",
        "        all_labels = np.concatenate(all_labels, axis=0)\n",
        "\n",
        "        #bacc = masked_accuracy(all_labels, all_preds)   \n",
        "        bacc = masked_accuracy(all_labels, all_preds)\n",
        "        print(f\"VAL -- Balanced Accuracy: {bacc}\")\n",
        "    return bacc\n",
        "\n",
        "# Define a function to plot the loss curve\n",
        "def plot_loss(model_name, train_losses):\n",
        "    plt.figure(figsize=(12, 5))\n",
        "    plt.subplot(1, 2, 1)\n",
        "    plt.plot(train_losses, label='Training Loss')\n",
        "    plt.xlabel('Epoch')\n",
        "    plt.ylabel('Loss')\n",
        "    plt.legend()\n",
        "    plt.title('Training Loss for ' + model_name)\n",
        "\n",
        "    plt.show()\n",
        "\n",
        "\n",
        "# Define a function to plot the accuracy curve\n",
        "def plot_acc(model_name, train_accuracies, val_accuracies):\n",
        "    plt.subplot(1, 2, 2)\n",
        "    plt.plot(train_accuracies, label='Training Accuracy')\n",
        "    plt.plot(val_accuracies, label='Validation Accuracy', linestyle='dashed')\n",
        "    plt.xlabel('Epoch')\n",
        "    plt.ylabel('Accuracy (%)')\n",
        "    plt.legend()\n",
        "    plt.title('Training vs Validation Accuracy for ' + model_name)\n",
        "\n",
        "    plt.show()\n",
        "\n",
        "# Loop for training, evaluating and plotting\n",
        "def train_plots(model, model_name, criterion, optimizer, num_epochs=100):\n",
        "    train_losses = []\n",
        "    train_accuracies = []\n",
        "    val_accuracies = []\n",
        "    \n",
        "    model.train()\n",
        "    for epoch in range(num_epochs):\n",
        "        bacc, loss = train(train_dataloader, model, criterion, optimizer,epoch)\n",
        "        train_losses.append(loss)\n",
        "        train_accuracies.append(bacc)\n",
        "        vbacc = validation(val_dataloader, model)\n",
        "        val_accuracies.append(vbacc)\n",
        "    \n",
        "    plot_loss(model_name, train_losses)\n",
        "    plot_acc(model_name, train_accuracies, val_accuracies)\n",
        "\n",
        "    return val_accuracies[-1]\n"
      ]
    },
    {
      "cell_type": "code",
      "execution_count": 248,
      "metadata": {},
      "outputs": [
        {
          "name": "stdout",
          "output_type": "stream",
          "text": [
            "TRAIN -- Epoch 1, Loss: 0.4837, Balanced Accuracy: 0.3333\n",
            "VAL -- Balanced Accuracy: 0.16666666666666666\n",
            "TRAIN -- Epoch 2, Loss: 0.2317, Balanced Accuracy: 0.3333\n",
            "VAL -- Balanced Accuracy: 0.16666666666666666\n",
            "TRAIN -- Epoch 3, Loss: 0.5191, Balanced Accuracy: 0.3438\n",
            "VAL -- Balanced Accuracy: 0.18581536599372953\n",
            "TRAIN -- Epoch 4, Loss: 0.4156, Balanced Accuracy: 0.4000\n",
            "VAL -- Balanced Accuracy: 0.26380287546835607\n",
            "TRAIN -- Epoch 5, Loss: 0.8212, Balanced Accuracy: 0.2500\n",
            "VAL -- Balanced Accuracy: 0.31026407292111946\n",
            "TRAIN -- Epoch 6, Loss: 0.5474, Balanced Accuracy: 0.2222\n",
            "VAL -- Balanced Accuracy: 0.3705491039428159\n",
            "TRAIN -- Epoch 7, Loss: 0.2964, Balanced Accuracy: 0.5714\n",
            "VAL -- Balanced Accuracy: 0.39632479447637986\n",
            "TRAIN -- Epoch 8, Loss: 0.3258, Balanced Accuracy: 0.2951\n",
            "VAL -- Balanced Accuracy: 0.4085050705326705\n",
            "TRAIN -- Epoch 9, Loss: 0.2924, Balanced Accuracy: 0.4555\n",
            "VAL -- Balanced Accuracy: 0.42467050361641645\n"
          ]
        },
        {
          "name": "stderr",
          "output_type": "stream",
          "text": [
            "c:\\Users\\maddy\\AppData\\Local\\Programs\\Python\\Python312\\Lib\\site-packages\\sklearn\\metrics\\_classification.py:2480: UserWarning: y_pred contains classes not in y_true\n",
            "  warnings.warn(\"y_pred contains classes not in y_true\")\n"
          ]
        },
        {
          "name": "stdout",
          "output_type": "stream",
          "text": [
            "TRAIN -- Epoch 10, Loss: 0.4573, Balanced Accuracy: 0.5000\n",
            "VAL -- Balanced Accuracy: 0.43411823273280964\n"
          ]
        },
        {
          "name": "stderr",
          "output_type": "stream",
          "text": [
            "c:\\Users\\maddy\\AppData\\Local\\Programs\\Python\\Python312\\Lib\\site-packages\\sklearn\\metrics\\_classification.py:2480: UserWarning: y_pred contains classes not in y_true\n",
            "  warnings.warn(\"y_pred contains classes not in y_true\")\n"
          ]
        },
        {
          "name": "stdout",
          "output_type": "stream",
          "text": [
            "TRAIN -- Epoch 11, Loss: 0.1628, Balanced Accuracy: 0.7047\n",
            "VAL -- Balanced Accuracy: 0.46348731881005395\n",
            "TRAIN -- Epoch 12, Loss: 0.2082, Balanced Accuracy: 0.6000\n",
            "VAL -- Balanced Accuracy: 0.4620754408263723\n",
            "TRAIN -- Epoch 13, Loss: 0.2359, Balanced Accuracy: 0.4307\n",
            "VAL -- Balanced Accuracy: 0.4746528144916346\n",
            "TRAIN -- Epoch 14, Loss: 0.2102, Balanced Accuracy: 0.5000\n",
            "VAL -- Balanced Accuracy: 0.474167176734956\n",
            "TRAIN -- Epoch 15, Loss: 0.1934, Balanced Accuracy: 0.5965\n",
            "VAL -- Balanced Accuracy: 0.47080747523782684\n",
            "TRAIN -- Epoch 16, Loss: 0.0889, Balanced Accuracy: 0.6691\n",
            "VAL -- Balanced Accuracy: 0.4858911486640484\n"
          ]
        },
        {
          "name": "stderr",
          "output_type": "stream",
          "text": [
            "c:\\Users\\maddy\\AppData\\Local\\Programs\\Python\\Python312\\Lib\\site-packages\\sklearn\\metrics\\_classification.py:2480: UserWarning: y_pred contains classes not in y_true\n",
            "  warnings.warn(\"y_pred contains classes not in y_true\")\n"
          ]
        },
        {
          "name": "stdout",
          "output_type": "stream",
          "text": [
            "TRAIN -- Epoch 17, Loss: 0.1399, Balanced Accuracy: 0.5000\n",
            "VAL -- Balanced Accuracy: 0.46822849778322156\n",
            "TRAIN -- Epoch 18, Loss: 0.1044, Balanced Accuracy: 0.8333\n",
            "VAL -- Balanced Accuracy: 0.48289952270138353\n",
            "TRAIN -- Epoch 19, Loss: 0.0637, Balanced Accuracy: 0.7500\n",
            "VAL -- Balanced Accuracy: 0.49203495823170157\n",
            "TRAIN -- Epoch 20, Loss: 0.2810, Balanced Accuracy: 0.4667\n",
            "VAL -- Balanced Accuracy: 0.499269594470388\n",
            "TRAIN -- Epoch 21, Loss: 0.0513, Balanced Accuracy: 0.7431\n",
            "VAL -- Balanced Accuracy: 0.4931749489178589\n"
          ]
        },
        {
          "name": "stderr",
          "output_type": "stream",
          "text": [
            "c:\\Users\\maddy\\AppData\\Local\\Programs\\Python\\Python312\\Lib\\site-packages\\sklearn\\metrics\\_classification.py:2480: UserWarning: y_pred contains classes not in y_true\n",
            "  warnings.warn(\"y_pred contains classes not in y_true\")\n"
          ]
        },
        {
          "name": "stdout",
          "output_type": "stream",
          "text": [
            "TRAIN -- Epoch 22, Loss: 0.0136, Balanced Accuracy: 0.6667\n",
            "VAL -- Balanced Accuracy: 0.49223871925315965\n",
            "TRAIN -- Epoch 23, Loss: 0.0945, Balanced Accuracy: 0.6458\n",
            "VAL -- Balanced Accuracy: 0.5110411900169091\n",
            "TRAIN -- Epoch 24, Loss: 0.0306, Balanced Accuracy: 0.7481\n",
            "VAL -- Balanced Accuracy: 0.503221003667051\n",
            "TRAIN -- Epoch 25, Loss: 0.0169, Balanced Accuracy: 0.5000\n",
            "VAL -- Balanced Accuracy: 0.5041484915814998\n"
          ]
        },
        {
          "name": "stderr",
          "output_type": "stream",
          "text": [
            "c:\\Users\\maddy\\AppData\\Local\\Programs\\Python\\Python312\\Lib\\site-packages\\sklearn\\metrics\\_classification.py:2480: UserWarning: y_pred contains classes not in y_true\n",
            "  warnings.warn(\"y_pred contains classes not in y_true\")\n"
          ]
        },
        {
          "name": "stdout",
          "output_type": "stream",
          "text": [
            "TRAIN -- Epoch 26, Loss: 0.0686, Balanced Accuracy: 0.5969\n",
            "VAL -- Balanced Accuracy: 0.5032597569565159\n",
            "TRAIN -- Epoch 27, Loss: 0.0279, Balanced Accuracy: 0.7778\n",
            "VAL -- Balanced Accuracy: 0.4882878420447012\n",
            "TRAIN -- Epoch 28, Loss: 0.0646, Balanced Accuracy: 0.7000\n",
            "VAL -- Balanced Accuracy: 0.49521507728776665\n"
          ]
        },
        {
          "name": "stderr",
          "output_type": "stream",
          "text": [
            "c:\\Users\\maddy\\AppData\\Local\\Programs\\Python\\Python312\\Lib\\site-packages\\sklearn\\metrics\\_classification.py:2480: UserWarning: y_pred contains classes not in y_true\n",
            "  warnings.warn(\"y_pred contains classes not in y_true\")\n"
          ]
        },
        {
          "name": "stdout",
          "output_type": "stream",
          "text": [
            "TRAIN -- Epoch 29, Loss: 0.1108, Balanced Accuracy: 0.6957\n",
            "VAL -- Balanced Accuracy: 0.5052588166708664\n"
          ]
        },
        {
          "name": "stderr",
          "output_type": "stream",
          "text": [
            "c:\\Users\\maddy\\AppData\\Local\\Programs\\Python\\Python312\\Lib\\site-packages\\sklearn\\metrics\\_classification.py:2480: UserWarning: y_pred contains classes not in y_true\n",
            "  warnings.warn(\"y_pred contains classes not in y_true\")\n"
          ]
        },
        {
          "name": "stdout",
          "output_type": "stream",
          "text": [
            "TRAIN -- Epoch 30, Loss: 0.0652, Balanced Accuracy: 0.6524\n",
            "VAL -- Balanced Accuracy: 0.49674147128584356\n"
          ]
        },
        {
          "name": "stderr",
          "output_type": "stream",
          "text": [
            "c:\\Users\\maddy\\AppData\\Local\\Programs\\Python\\Python312\\Lib\\site-packages\\sklearn\\metrics\\_classification.py:2480: UserWarning: y_pred contains classes not in y_true\n",
            "  warnings.warn(\"y_pred contains classes not in y_true\")\n"
          ]
        },
        {
          "name": "stdout",
          "output_type": "stream",
          "text": [
            "TRAIN -- Epoch 31, Loss: 0.0169, Balanced Accuracy: 0.6596\n",
            "VAL -- Balanced Accuracy: 0.49878042694695685\n",
            "TRAIN -- Epoch 32, Loss: 0.1346, Balanced Accuracy: 0.6603\n",
            "VAL -- Balanced Accuracy: 0.5161700576121814\n",
            "TRAIN -- Epoch 33, Loss: 0.0307, Balanced Accuracy: 0.6250\n",
            "VAL -- Balanced Accuracy: 0.5138115301326377\n",
            "TRAIN -- Epoch 34, Loss: 0.0709, Balanced Accuracy: 0.6618\n",
            "VAL -- Balanced Accuracy: 0.5049155911225993\n",
            "TRAIN -- Epoch 35, Loss: 0.0174, Balanced Accuracy: 0.8333\n",
            "VAL -- Balanced Accuracy: 0.5253502423225951\n",
            "TRAIN -- Epoch 36, Loss: 0.0119, Balanced Accuracy: 0.6667\n",
            "VAL -- Balanced Accuracy: 0.5179544377724918\n",
            "TRAIN -- Epoch 37, Loss: 0.0063, Balanced Accuracy: 0.8000\n",
            "VAL -- Balanced Accuracy: 0.5128160209722705\n",
            "TRAIN -- Epoch 38, Loss: 0.0032, Balanced Accuracy: 0.8000\n",
            "VAL -- Balanced Accuracy: 0.520761668118304\n",
            "TRAIN -- Epoch 39, Loss: 0.0226, Balanced Accuracy: 0.8095\n",
            "VAL -- Balanced Accuracy: 0.5121625061827034\n",
            "TRAIN -- Epoch 40, Loss: 0.0161, Balanced Accuracy: 0.8000\n",
            "VAL -- Balanced Accuracy: 0.5047701991798792\n",
            "TRAIN -- Epoch 41, Loss: 0.0008, Balanced Accuracy: 0.8000\n",
            "VAL -- Balanced Accuracy: 0.5198366498632039\n"
          ]
        },
        {
          "name": "stderr",
          "output_type": "stream",
          "text": [
            "c:\\Users\\maddy\\AppData\\Local\\Programs\\Python\\Python312\\Lib\\site-packages\\sklearn\\metrics\\_classification.py:2480: UserWarning: y_pred contains classes not in y_true\n",
            "  warnings.warn(\"y_pred contains classes not in y_true\")\n"
          ]
        },
        {
          "name": "stdout",
          "output_type": "stream",
          "text": [
            "TRAIN -- Epoch 42, Loss: 0.1035, Balanced Accuracy: 0.7000\n",
            "VAL -- Balanced Accuracy: 0.5225381262571481\n",
            "TRAIN -- Epoch 43, Loss: 0.0139, Balanced Accuracy: 0.8000\n",
            "VAL -- Balanced Accuracy: 0.5122491429466568\n",
            "TRAIN -- Epoch 44, Loss: 0.0090, Balanced Accuracy: 0.6667\n",
            "VAL -- Balanced Accuracy: 0.5314752113361999\n",
            "TRAIN -- Epoch 45, Loss: 0.0191, Balanced Accuracy: 0.8000\n",
            "VAL -- Balanced Accuracy: 0.5250296523554542\n",
            "TRAIN -- Epoch 46, Loss: 0.0236, Balanced Accuracy: 0.8333\n",
            "VAL -- Balanced Accuracy: 0.5205870461086978\n",
            "TRAIN -- Epoch 47, Loss: 0.0042, Balanced Accuracy: 0.7500\n",
            "VAL -- Balanced Accuracy: 0.5259412799838191\n",
            "TRAIN -- Epoch 48, Loss: 0.0033, Balanced Accuracy: 0.8000\n",
            "VAL -- Balanced Accuracy: 0.5208992059806217\n",
            "TRAIN -- Epoch 49, Loss: 0.0138, Balanced Accuracy: 0.7500\n",
            "VAL -- Balanced Accuracy: 0.5337389783751084\n"
          ]
        },
        {
          "name": "stderr",
          "output_type": "stream",
          "text": [
            "c:\\Users\\maddy\\AppData\\Local\\Programs\\Python\\Python312\\Lib\\site-packages\\sklearn\\metrics\\_classification.py:2480: UserWarning: y_pred contains classes not in y_true\n",
            "  warnings.warn(\"y_pred contains classes not in y_true\")\n"
          ]
        },
        {
          "name": "stdout",
          "output_type": "stream",
          "text": [
            "TRAIN -- Epoch 50, Loss: 0.0019, Balanced Accuracy: 0.6667\n",
            "VAL -- Balanced Accuracy: 0.5184203474053346\n",
            "TRAIN -- Epoch 51, Loss: 0.0182, Balanced Accuracy: 0.8333\n",
            "VAL -- Balanced Accuracy: 0.5283767989309549\n",
            "TRAIN -- Epoch 52, Loss: 0.0028, Balanced Accuracy: 0.8000\n",
            "VAL -- Balanced Accuracy: 0.5223415522462435\n",
            "TRAIN -- Epoch 53, Loss: 0.0018, Balanced Accuracy: 0.8000\n",
            "VAL -- Balanced Accuracy: 0.521775472302997\n"
          ]
        },
        {
          "name": "stderr",
          "output_type": "stream",
          "text": [
            "c:\\Users\\maddy\\AppData\\Local\\Programs\\Python\\Python312\\Lib\\site-packages\\sklearn\\metrics\\_classification.py:2480: UserWarning: y_pred contains classes not in y_true\n",
            "  warnings.warn(\"y_pred contains classes not in y_true\")\n"
          ]
        },
        {
          "name": "stdout",
          "output_type": "stream",
          "text": [
            "TRAIN -- Epoch 54, Loss: 0.0050, Balanced Accuracy: 0.8000\n",
            "VAL -- Balanced Accuracy: 0.5195523175438087\n",
            "TRAIN -- Epoch 55, Loss: 0.0095, Balanced Accuracy: 0.8333\n",
            "VAL -- Balanced Accuracy: 0.5192388255333963\n",
            "TRAIN -- Epoch 56, Loss: 0.0044, Balanced Accuracy: 0.7500\n",
            "VAL -- Balanced Accuracy: 0.5179725901439304\n"
          ]
        },
        {
          "name": "stderr",
          "output_type": "stream",
          "text": [
            "c:\\Users\\maddy\\AppData\\Local\\Programs\\Python\\Python312\\Lib\\site-packages\\sklearn\\metrics\\_classification.py:2480: UserWarning: y_pred contains classes not in y_true\n",
            "  warnings.warn(\"y_pred contains classes not in y_true\")\n"
          ]
        },
        {
          "name": "stdout",
          "output_type": "stream",
          "text": [
            "TRAIN -- Epoch 57, Loss: 0.0263, Balanced Accuracy: 0.7448\n",
            "VAL -- Balanced Accuracy: 0.5280050011800866\n",
            "TRAIN -- Epoch 58, Loss: 0.0061, Balanced Accuracy: 0.8000\n",
            "VAL -- Balanced Accuracy: 0.5258067805913104\n",
            "TRAIN -- Epoch 59, Loss: 0.0008, Balanced Accuracy: 0.8000\n",
            "VAL -- Balanced Accuracy: 0.5198321011472569\n",
            "TRAIN -- Epoch 60, Loss: 0.0272, Balanced Accuracy: 0.8000\n",
            "VAL -- Balanced Accuracy: 0.5315500024738952\n",
            "TRAIN -- Epoch 61, Loss: 0.0016, Balanced Accuracy: 0.8333\n",
            "VAL -- Balanced Accuracy: 0.5371235628783921\n"
          ]
        },
        {
          "name": "stderr",
          "output_type": "stream",
          "text": [
            "c:\\Users\\maddy\\AppData\\Local\\Programs\\Python\\Python312\\Lib\\site-packages\\sklearn\\metrics\\_classification.py:2480: UserWarning: y_pred contains classes not in y_true\n",
            "  warnings.warn(\"y_pred contains classes not in y_true\")\n"
          ]
        },
        {
          "name": "stdout",
          "output_type": "stream",
          "text": [
            "TRAIN -- Epoch 62, Loss: 0.1489, Balanced Accuracy: 0.7455\n",
            "VAL -- Balanced Accuracy: 0.5397071686303776\n",
            "TRAIN -- Epoch 63, Loss: 0.0036, Balanced Accuracy: 0.7500\n",
            "VAL -- Balanced Accuracy: 0.5244068445921263\n",
            "TRAIN -- Epoch 64, Loss: 0.0075, Balanced Accuracy: 0.8000\n",
            "VAL -- Balanced Accuracy: 0.5276413807049625\n",
            "TRAIN -- Epoch 65, Loss: 0.0115, Balanced Accuracy: 0.6667\n",
            "VAL -- Balanced Accuracy: 0.5232166807809308\n",
            "TRAIN -- Epoch 66, Loss: 0.0003, Balanced Accuracy: 0.7500\n",
            "VAL -- Balanced Accuracy: 0.5176234886108376\n",
            "TRAIN -- Epoch 67, Loss: 0.0083, Balanced Accuracy: 0.8333\n",
            "VAL -- Balanced Accuracy: 0.5361960958098763\n",
            "TRAIN -- Epoch 68, Loss: 0.0179, Balanced Accuracy: 0.7971\n",
            "VAL -- Balanced Accuracy: 0.5257227656119847\n",
            "TRAIN -- Epoch 69, Loss: 0.0035, Balanced Accuracy: 0.8333\n",
            "VAL -- Balanced Accuracy: 0.5360859222534308\n",
            "TRAIN -- Epoch 70, Loss: 0.0008, Balanced Accuracy: 0.8000\n",
            "VAL -- Balanced Accuracy: 0.5345573606785864\n",
            "TRAIN -- Epoch 71, Loss: 0.0197, Balanced Accuracy: 0.7917\n",
            "VAL -- Balanced Accuracy: 0.5355643313663925\n",
            "TRAIN -- Epoch 72, Loss: 0.0035, Balanced Accuracy: 0.7500\n",
            "VAL -- Balanced Accuracy: 0.5384420101251224\n",
            "TRAIN -- Epoch 73, Loss: 0.0037, Balanced Accuracy: 0.8333\n",
            "VAL -- Balanced Accuracy: 0.5351691023868353\n",
            "TRAIN -- Epoch 74, Loss: 0.0002, Balanced Accuracy: 0.6667\n",
            "VAL -- Balanced Accuracy: 0.5495496494044972\n",
            "TRAIN -- Epoch 75, Loss: 0.0012, Balanced Accuracy: 0.8000\n",
            "VAL -- Balanced Accuracy: 0.5511943614816345\n",
            "TRAIN -- Epoch 76, Loss: 0.0036, Balanced Accuracy: 0.8000\n",
            "VAL -- Balanced Accuracy: 0.534606133457244\n",
            "TRAIN -- Epoch 77, Loss: 0.0164, Balanced Accuracy: 0.6667\n",
            "VAL -- Balanced Accuracy: 0.5535302347020958\n"
          ]
        },
        {
          "name": "stderr",
          "output_type": "stream",
          "text": [
            "c:\\Users\\maddy\\AppData\\Local\\Programs\\Python\\Python312\\Lib\\site-packages\\sklearn\\metrics\\_classification.py:2480: UserWarning: y_pred contains classes not in y_true\n",
            "  warnings.warn(\"y_pred contains classes not in y_true\")\n"
          ]
        },
        {
          "name": "stdout",
          "output_type": "stream",
          "text": [
            "TRAIN -- Epoch 78, Loss: 0.0008, Balanced Accuracy: 0.7500\n",
            "VAL -- Balanced Accuracy: 0.5273189179392205\n",
            "TRAIN -- Epoch 79, Loss: 0.0063, Balanced Accuracy: 0.8000\n",
            "VAL -- Balanced Accuracy: 0.5427088097462811\n",
            "TRAIN -- Epoch 80, Loss: 0.0085, Balanced Accuracy: 0.8333\n",
            "VAL -- Balanced Accuracy: 0.5491587818276735\n",
            "TRAIN -- Epoch 81, Loss: 0.0011, Balanced Accuracy: 0.8333\n",
            "VAL -- Balanced Accuracy: 0.5435383609670087\n",
            "TRAIN -- Epoch 82, Loss: 0.0089, Balanced Accuracy: 0.8333\n",
            "VAL -- Balanced Accuracy: 0.5555940029934946\n",
            "TRAIN -- Epoch 83, Loss: 0.0023, Balanced Accuracy: 0.8000\n",
            "VAL -- Balanced Accuracy: 0.5445681591519367\n"
          ]
        },
        {
          "name": "stderr",
          "output_type": "stream",
          "text": [
            "c:\\Users\\maddy\\AppData\\Local\\Programs\\Python\\Python312\\Lib\\site-packages\\sklearn\\metrics\\_classification.py:2480: UserWarning: y_pred contains classes not in y_true\n",
            "  warnings.warn(\"y_pred contains classes not in y_true\")\n"
          ]
        },
        {
          "name": "stdout",
          "output_type": "stream",
          "text": [
            "TRAIN -- Epoch 84, Loss: 0.0298, Balanced Accuracy: 0.6875\n",
            "VAL -- Balanced Accuracy: 0.5556993936924762\n",
            "TRAIN -- Epoch 85, Loss: 0.0029, Balanced Accuracy: 0.8333\n",
            "VAL -- Balanced Accuracy: 0.5485017597516079\n",
            "TRAIN -- Epoch 86, Loss: 0.0007, Balanced Accuracy: 0.8000\n",
            "VAL -- Balanced Accuracy: 0.5559316332599288\n"
          ]
        },
        {
          "name": "stderr",
          "output_type": "stream",
          "text": [
            "c:\\Users\\maddy\\AppData\\Local\\Programs\\Python\\Python312\\Lib\\site-packages\\sklearn\\metrics\\_classification.py:2480: UserWarning: y_pred contains classes not in y_true\n",
            "  warnings.warn(\"y_pred contains classes not in y_true\")\n"
          ]
        },
        {
          "name": "stdout",
          "output_type": "stream",
          "text": [
            "TRAIN -- Epoch 87, Loss: 0.0008, Balanced Accuracy: 0.5000\n",
            "VAL -- Balanced Accuracy: 0.5541618656982563\n",
            "TRAIN -- Epoch 88, Loss: 0.0007, Balanced Accuracy: 0.7500\n",
            "VAL -- Balanced Accuracy: 0.5452796426782719\n",
            "TRAIN -- Epoch 89, Loss: 0.0004, Balanced Accuracy: 0.7500\n",
            "VAL -- Balanced Accuracy: 0.5471902935242617\n",
            "TRAIN -- Epoch 90, Loss: 0.0004, Balanced Accuracy: 0.7500\n",
            "VAL -- Balanced Accuracy: 0.5434303409121567\n",
            "TRAIN -- Epoch 91, Loss: 0.0011, Balanced Accuracy: 0.8333\n",
            "VAL -- Balanced Accuracy: 0.5498950942274452\n"
          ]
        },
        {
          "name": "stderr",
          "output_type": "stream",
          "text": [
            "c:\\Users\\maddy\\AppData\\Local\\Programs\\Python\\Python312\\Lib\\site-packages\\sklearn\\metrics\\_classification.py:2480: UserWarning: y_pred contains classes not in y_true\n",
            "  warnings.warn(\"y_pred contains classes not in y_true\")\n"
          ]
        },
        {
          "name": "stdout",
          "output_type": "stream",
          "text": [
            "TRAIN -- Epoch 92, Loss: 0.0108, Balanced Accuracy: 0.7500\n",
            "VAL -- Balanced Accuracy: 0.5465288188236609\n",
            "TRAIN -- Epoch 93, Loss: 0.0000, Balanced Accuracy: 0.6667\n",
            "VAL -- Balanced Accuracy: 0.5534188600196801\n",
            "TRAIN -- Epoch 94, Loss: 0.0033, Balanced Accuracy: 0.8000\n",
            "VAL -- Balanced Accuracy: 0.5548098090203838\n",
            "TRAIN -- Epoch 95, Loss: 0.0048, Balanced Accuracy: 0.8000\n",
            "VAL -- Balanced Accuracy: 0.5557304333864489\n",
            "TRAIN -- Epoch 96, Loss: 0.0104, Balanced Accuracy: 0.7500\n",
            "VAL -- Balanced Accuracy: 0.5485597820874385\n",
            "TRAIN -- Epoch 97, Loss: 0.0033, Balanced Accuracy: 0.8333\n",
            "VAL -- Balanced Accuracy: 0.5574672649079818\n",
            "TRAIN -- Epoch 98, Loss: 0.0034, Balanced Accuracy: 0.7500\n",
            "VAL -- Balanced Accuracy: 0.544902516807045\n",
            "TRAIN -- Epoch 99, Loss: 0.0026, Balanced Accuracy: 0.7500\n",
            "VAL -- Balanced Accuracy: 0.5479336478468945\n",
            "TRAIN -- Epoch 100, Loss: 0.0009, Balanced Accuracy: 0.8000\n",
            "VAL -- Balanced Accuracy: 0.542108754501424\n"
          ]
        },
        {
          "data": {
            "image/png": "[encoded data removed]",
            "text/plain": [
              "<Figure size 1200x500 with 1 Axes>"
            ]
          },
          "metadata": {},
          "output_type": "display_data"
        },
        {
          "data": {
            "image/png": "[encoded data removed]",
            "text/plain": [
              "<Figure size 640x480 with 1 Axes>"
            ]
          },
          "metadata": {},
          "output_type": "display_data"
        },
        {
          "name": "stdout",
          "output_type": "stream",
          "text": [
            "TRAIN -- Epoch 1, Loss: 1.1641, Balanced Accuracy: 0.2000\n",
            "VAL -- Balanced Accuracy: 0.16666666666666666\n",
            "TRAIN -- Epoch 2, Loss: 0.4544, Balanced Accuracy: 0.2500\n",
            "VAL -- Balanced Accuracy: 0.16666666666666666\n",
            "TRAIN -- Epoch 3, Loss: 1.0838, Balanced Accuracy: 0.2000\n",
            "VAL -- Balanced Accuracy: 0.16666666666666666\n",
            "TRAIN -- Epoch 4, Loss: 0.9692, Balanced Accuracy: 0.1667\n",
            "VAL -- Balanced Accuracy: 0.16666666666666666\n",
            "TRAIN -- Epoch 5, Loss: 0.3413, Balanced Accuracy: 0.3333\n",
            "VAL -- Balanced Accuracy: 0.16666666666666666\n",
            "TRAIN -- Epoch 6, Loss: 1.1098, Balanced Accuracy: 0.2000\n",
            "VAL -- Balanced Accuracy: 0.16666666666666666\n",
            "TRAIN -- Epoch 7, Loss: 0.4078, Balanced Accuracy: 0.2000\n",
            "VAL -- Balanced Accuracy: 0.16666666666666666\n",
            "TRAIN -- Epoch 8, Loss: 1.1678, Balanced Accuracy: 0.1667\n",
            "VAL -- Balanced Accuracy: 0.16666666666666666\n",
            "TRAIN -- Epoch 9, Loss: 0.4624, Balanced Accuracy: 0.2500\n",
            "VAL -- Balanced Accuracy: 0.16666666666666666\n",
            "TRAIN -- Epoch 10, Loss: 0.4213, Balanced Accuracy: 0.2000\n",
            "VAL -- Balanced Accuracy: 0.168823870030971\n",
            "TRAIN -- Epoch 11, Loss: 0.6849, Balanced Accuracy: 0.2500\n",
            "VAL -- Balanced Accuracy: 0.17036278619754675\n",
            "TRAIN -- Epoch 12, Loss: 0.5686, Balanced Accuracy: 0.2917\n",
            "VAL -- Balanced Accuracy: 0.1719107949264065\n",
            "TRAIN -- Epoch 13, Loss: 0.6329, Balanced Accuracy: 0.3750\n",
            "VAL -- Balanced Accuracy: 0.17299053669763767\n",
            "TRAIN -- Epoch 14, Loss: 0.6559, Balanced Accuracy: 0.2939\n",
            "VAL -- Balanced Accuracy: 0.17568646030209825\n",
            "TRAIN -- Epoch 15, Loss: 0.3901, Balanced Accuracy: 0.2000\n",
            "VAL -- Balanced Accuracy: 0.18315243473010367\n"
          ]
        },
        {
          "name": "stderr",
          "output_type": "stream",
          "text": [
            "c:\\Users\\maddy\\AppData\\Local\\Programs\\Python\\Python312\\Lib\\site-packages\\sklearn\\metrics\\_classification.py:2480: UserWarning: y_pred contains classes not in y_true\n",
            "  warnings.warn(\"y_pred contains classes not in y_true\")\n"
          ]
        },
        {
          "name": "stdout",
          "output_type": "stream",
          "text": [
            "TRAIN -- Epoch 16, Loss: 0.4375, Balanced Accuracy: 0.3259\n",
            "VAL -- Balanced Accuracy: 0.18188064655115407\n",
            "TRAIN -- Epoch 17, Loss: 0.9495, Balanced Accuracy: 0.2000\n",
            "VAL -- Balanced Accuracy: 0.1979288408748555\n",
            "TRAIN -- Epoch 18, Loss: 0.5915, Balanced Accuracy: 0.1667\n",
            "VAL -- Balanced Accuracy: 0.19723209175411294\n",
            "TRAIN -- Epoch 19, Loss: 0.6580, Balanced Accuracy: 0.1667\n",
            "VAL -- Balanced Accuracy: 0.19745261210504386\n",
            "TRAIN -- Epoch 20, Loss: 0.8336, Balanced Accuracy: 0.2650\n",
            "VAL -- Balanced Accuracy: 0.19521472050545793\n",
            "TRAIN -- Epoch 21, Loss: 0.3976, Balanced Accuracy: 0.3438\n",
            "VAL -- Balanced Accuracy: 0.19858015073174348\n",
            "TRAIN -- Epoch 22, Loss: 0.3736, Balanced Accuracy: 0.2635\n",
            "VAL -- Balanced Accuracy: 0.2112309574138419\n",
            "TRAIN -- Epoch 23, Loss: 0.6280, Balanced Accuracy: 0.4333\n",
            "VAL -- Balanced Accuracy: 0.22042924523258586\n",
            "TRAIN -- Epoch 24, Loss: 0.2715, Balanced Accuracy: 0.2500\n",
            "VAL -- Balanced Accuracy: 0.21818463490548057\n",
            "TRAIN -- Epoch 25, Loss: 0.2724, Balanced Accuracy: 0.4375\n",
            "VAL -- Balanced Accuracy: 0.2282385529406391\n",
            "TRAIN -- Epoch 26, Loss: 0.9369, Balanced Accuracy: 0.2464\n",
            "VAL -- Balanced Accuracy: 0.216769570929493\n"
          ]
        },
        {
          "name": "stderr",
          "output_type": "stream",
          "text": [
            "c:\\Users\\maddy\\AppData\\Local\\Programs\\Python\\Python312\\Lib\\site-packages\\sklearn\\metrics\\_classification.py:2480: UserWarning: y_pred contains classes not in y_true\n",
            "  warnings.warn(\"y_pred contains classes not in y_true\")\n"
          ]
        },
        {
          "name": "stdout",
          "output_type": "stream",
          "text": [
            "TRAIN -- Epoch 27, Loss: 0.3405, Balanced Accuracy: 0.2889\n",
            "VAL -- Balanced Accuracy: 0.2188869064973823\n"
          ]
        },
        {
          "name": "stderr",
          "output_type": "stream",
          "text": [
            "c:\\Users\\maddy\\AppData\\Local\\Programs\\Python\\Python312\\Lib\\site-packages\\sklearn\\metrics\\_classification.py:2480: UserWarning: y_pred contains classes not in y_true\n",
            "  warnings.warn(\"y_pred contains classes not in y_true\")\n"
          ]
        },
        {
          "name": "stdout",
          "output_type": "stream",
          "text": [
            "TRAIN -- Epoch 28, Loss: 0.4247, Balanced Accuracy: 0.1958\n",
            "VAL -- Balanced Accuracy: 0.2366899723794926\n",
            "TRAIN -- Epoch 29, Loss: 0.4787, Balanced Accuracy: 0.2000\n",
            "VAL -- Balanced Accuracy: 0.24599838936118368\n",
            "TRAIN -- Epoch 30, Loss: 0.4359, Balanced Accuracy: 0.3333\n",
            "VAL -- Balanced Accuracy: 0.2553023255679919\n",
            "TRAIN -- Epoch 31, Loss: 0.5600, Balanced Accuracy: 0.3333\n",
            "VAL -- Balanced Accuracy: 0.24540511374732313\n"
          ]
        },
        {
          "name": "stderr",
          "output_type": "stream",
          "text": [
            "c:\\Users\\maddy\\AppData\\Local\\Programs\\Python\\Python312\\Lib\\site-packages\\sklearn\\metrics\\_classification.py:2480: UserWarning: y_pred contains classes not in y_true\n",
            "  warnings.warn(\"y_pred contains classes not in y_true\")\n"
          ]
        },
        {
          "name": "stdout",
          "output_type": "stream",
          "text": [
            "TRAIN -- Epoch 32, Loss: 0.2500, Balanced Accuracy: 0.4667\n",
            "VAL -- Balanced Accuracy: 0.25979610197573627\n",
            "TRAIN -- Epoch 33, Loss: 0.0891, Balanced Accuracy: 0.6667\n",
            "VAL -- Balanced Accuracy: 0.24058619161890404\n",
            "TRAIN -- Epoch 34, Loss: 0.1587, Balanced Accuracy: 0.4000\n",
            "VAL -- Balanced Accuracy: 0.29121109198034834\n"
          ]
        },
        {
          "name": "stderr",
          "output_type": "stream",
          "text": [
            "c:\\Users\\maddy\\AppData\\Local\\Programs\\Python\\Python312\\Lib\\site-packages\\sklearn\\metrics\\_classification.py:2480: UserWarning: y_pred contains classes not in y_true\n",
            "  warnings.warn(\"y_pred contains classes not in y_true\")\n"
          ]
        },
        {
          "name": "stdout",
          "output_type": "stream",
          "text": [
            "TRAIN -- Epoch 35, Loss: 0.2769, Balanced Accuracy: 0.6719\n",
            "VAL -- Balanced Accuracy: 0.28037608664977975\n",
            "TRAIN -- Epoch 36, Loss: 0.6096, Balanced Accuracy: 0.4012\n",
            "VAL -- Balanced Accuracy: 0.2944645574342297\n"
          ]
        },
        {
          "name": "stderr",
          "output_type": "stream",
          "text": [
            "c:\\Users\\maddy\\AppData\\Local\\Programs\\Python\\Python312\\Lib\\site-packages\\sklearn\\metrics\\_classification.py:2480: UserWarning: y_pred contains classes not in y_true\n",
            "  warnings.warn(\"y_pred contains classes not in y_true\")\n"
          ]
        },
        {
          "name": "stdout",
          "output_type": "stream",
          "text": [
            "TRAIN -- Epoch 37, Loss: 0.2280, Balanced Accuracy: 0.3333\n",
            "VAL -- Balanced Accuracy: 0.25162088657681414\n"
          ]
        },
        {
          "name": "stderr",
          "output_type": "stream",
          "text": [
            "c:\\Users\\maddy\\AppData\\Local\\Programs\\Python\\Python312\\Lib\\site-packages\\sklearn\\metrics\\_classification.py:2480: UserWarning: y_pred contains classes not in y_true\n",
            "  warnings.warn(\"y_pred contains classes not in y_true\")\n"
          ]
        },
        {
          "name": "stdout",
          "output_type": "stream",
          "text": [
            "TRAIN -- Epoch 38, Loss: 0.2645, Balanced Accuracy: 0.4000\n",
            "VAL -- Balanced Accuracy: 0.2694160445126318\n"
          ]
        },
        {
          "name": "stderr",
          "output_type": "stream",
          "text": [
            "c:\\Users\\maddy\\AppData\\Local\\Programs\\Python\\Python312\\Lib\\site-packages\\sklearn\\metrics\\_classification.py:2480: UserWarning: y_pred contains classes not in y_true\n",
            "  warnings.warn(\"y_pred contains classes not in y_true\")\n"
          ]
        },
        {
          "name": "stdout",
          "output_type": "stream",
          "text": [
            "TRAIN -- Epoch 39, Loss: 0.0462, Balanced Accuracy: 0.5000\n",
            "VAL -- Balanced Accuracy: 0.2824841937732568\n",
            "TRAIN -- Epoch 40, Loss: 0.4192, Balanced Accuracy: 0.5382\n",
            "VAL -- Balanced Accuracy: 0.28621110261344174\n",
            "TRAIN -- Epoch 41, Loss: 0.1774, Balanced Accuracy: 0.6667\n",
            "VAL -- Balanced Accuracy: 0.26523126986802503\n",
            "TRAIN -- Epoch 42, Loss: 0.2594, Balanced Accuracy: 0.6000\n",
            "VAL -- Balanced Accuracy: 0.2900196477285777\n",
            "TRAIN -- Epoch 43, Loss: 0.2174, Balanced Accuracy: 0.3750\n",
            "VAL -- Balanced Accuracy: 0.28056801585332586\n",
            "TRAIN -- Epoch 44, Loss: 0.1880, Balanced Accuracy: 0.4940\n",
            "VAL -- Balanced Accuracy: 0.2782639712036406\n"
          ]
        },
        {
          "name": "stderr",
          "output_type": "stream",
          "text": [
            "c:\\Users\\maddy\\AppData\\Local\\Programs\\Python\\Python312\\Lib\\site-packages\\sklearn\\metrics\\_classification.py:2480: UserWarning: y_pred contains classes not in y_true\n",
            "  warnings.warn(\"y_pred contains classes not in y_true\")\n"
          ]
        },
        {
          "name": "stdout",
          "output_type": "stream",
          "text": [
            "TRAIN -- Epoch 45, Loss: 0.4258, Balanced Accuracy: 0.6216\n",
            "VAL -- Balanced Accuracy: 0.29911975714084066\n"
          ]
        },
        {
          "name": "stderr",
          "output_type": "stream",
          "text": [
            "c:\\Users\\maddy\\AppData\\Local\\Programs\\Python\\Python312\\Lib\\site-packages\\sklearn\\metrics\\_classification.py:2480: UserWarning: y_pred contains classes not in y_true\n",
            "  warnings.warn(\"y_pred contains classes not in y_true\")\n"
          ]
        },
        {
          "name": "stdout",
          "output_type": "stream",
          "text": [
            "TRAIN -- Epoch 46, Loss: 0.1058, Balanced Accuracy: 0.6667\n",
            "VAL -- Balanced Accuracy: 0.29792654105149047\n"
          ]
        },
        {
          "name": "stderr",
          "output_type": "stream",
          "text": [
            "c:\\Users\\maddy\\AppData\\Local\\Programs\\Python\\Python312\\Lib\\site-packages\\sklearn\\metrics\\_classification.py:2480: UserWarning: y_pred contains classes not in y_true\n",
            "  warnings.warn(\"y_pred contains classes not in y_true\")\n"
          ]
        },
        {
          "name": "stdout",
          "output_type": "stream",
          "text": [
            "TRAIN -- Epoch 47, Loss: 0.3860, Balanced Accuracy: 0.4297\n",
            "VAL -- Balanced Accuracy: 0.32175343188159\n"
          ]
        },
        {
          "name": "stderr",
          "output_type": "stream",
          "text": [
            "c:\\Users\\maddy\\AppData\\Local\\Programs\\Python\\Python312\\Lib\\site-packages\\sklearn\\metrics\\_classification.py:2480: UserWarning: y_pred contains classes not in y_true\n",
            "  warnings.warn(\"y_pred contains classes not in y_true\")\n"
          ]
        },
        {
          "name": "stdout",
          "output_type": "stream",
          "text": [
            "TRAIN -- Epoch 48, Loss: 0.2444, Balanced Accuracy: 0.2638\n",
            "VAL -- Balanced Accuracy: 0.31950983510041336\n",
            "TRAIN -- Epoch 49, Loss: 0.2614, Balanced Accuracy: 0.4468\n",
            "VAL -- Balanced Accuracy: 0.32639855363033593\n"
          ]
        },
        {
          "name": "stderr",
          "output_type": "stream",
          "text": [
            "c:\\Users\\maddy\\AppData\\Local\\Programs\\Python\\Python312\\Lib\\site-packages\\sklearn\\metrics\\_classification.py:2480: UserWarning: y_pred contains classes not in y_true\n",
            "  warnings.warn(\"y_pred contains classes not in y_true\")\n"
          ]
        },
        {
          "name": "stdout",
          "output_type": "stream",
          "text": [
            "TRAIN -- Epoch 50, Loss: 0.2783, Balanced Accuracy: 0.4421\n",
            "VAL -- Balanced Accuracy: 0.30885678874730654\n",
            "TRAIN -- Epoch 51, Loss: 0.1950, Balanced Accuracy: 0.6496\n",
            "VAL -- Balanced Accuracy: 0.32954200712544274\n",
            "TRAIN -- Epoch 52, Loss: 0.1127, Balanced Accuracy: 0.5000\n",
            "VAL -- Balanced Accuracy: 0.3168183148573796\n",
            "TRAIN -- Epoch 53, Loss: 0.3969, Balanced Accuracy: 0.4967\n",
            "VAL -- Balanced Accuracy: 0.3298523856873952\n",
            "TRAIN -- Epoch 54, Loss: 0.1265, Balanced Accuracy: 0.6576\n",
            "VAL -- Balanced Accuracy: 0.3174730659608513\n",
            "TRAIN -- Epoch 55, Loss: 0.2302, Balanced Accuracy: 0.6472\n",
            "VAL -- Balanced Accuracy: 0.31227542813363407\n",
            "TRAIN -- Epoch 56, Loss: 0.1263, Balanced Accuracy: 0.6250\n",
            "VAL -- Balanced Accuracy: 0.3253254953986896\n"
          ]
        },
        {
          "name": "stderr",
          "output_type": "stream",
          "text": [
            "c:\\Users\\maddy\\AppData\\Local\\Programs\\Python\\Python312\\Lib\\site-packages\\sklearn\\metrics\\_classification.py:2480: UserWarning: y_pred contains classes not in y_true\n",
            "  warnings.warn(\"y_pred contains classes not in y_true\")\n"
          ]
        },
        {
          "name": "stdout",
          "output_type": "stream",
          "text": [
            "TRAIN -- Epoch 57, Loss: 0.0850, Balanced Accuracy: 0.6593\n",
            "VAL -- Balanced Accuracy: 0.3367217883426486\n",
            "TRAIN -- Epoch 58, Loss: 0.2195, Balanced Accuracy: 0.6806\n",
            "VAL -- Balanced Accuracy: 0.3354658536790238\n",
            "TRAIN -- Epoch 59, Loss: 0.3125, Balanced Accuracy: 0.4261\n",
            "VAL -- Balanced Accuracy: 0.3376071824152425\n"
          ]
        },
        {
          "name": "stderr",
          "output_type": "stream",
          "text": [
            "c:\\Users\\maddy\\AppData\\Local\\Programs\\Python\\Python312\\Lib\\site-packages\\sklearn\\metrics\\_classification.py:2480: UserWarning: y_pred contains classes not in y_true\n",
            "  warnings.warn(\"y_pred contains classes not in y_true\")\n"
          ]
        },
        {
          "name": "stdout",
          "output_type": "stream",
          "text": [
            "TRAIN -- Epoch 60, Loss: 0.1237, Balanced Accuracy: 0.3500\n",
            "VAL -- Balanced Accuracy: 0.33431459581622813\n",
            "TRAIN -- Epoch 61, Loss: 0.0704, Balanced Accuracy: 0.5000\n",
            "VAL -- Balanced Accuracy: 0.3369071558135643\n",
            "TRAIN -- Epoch 62, Loss: 0.0225, Balanced Accuracy: 0.6667\n",
            "VAL -- Balanced Accuracy: 0.33659221229251396\n"
          ]
        },
        {
          "name": "stderr",
          "output_type": "stream",
          "text": [
            "c:\\Users\\maddy\\AppData\\Local\\Programs\\Python\\Python312\\Lib\\site-packages\\sklearn\\metrics\\_classification.py:2480: UserWarning: y_pred contains classes not in y_true\n",
            "  warnings.warn(\"y_pred contains classes not in y_true\")\n"
          ]
        },
        {
          "name": "stdout",
          "output_type": "stream",
          "text": [
            "TRAIN -- Epoch 63, Loss: 0.1897, Balanced Accuracy: 0.6833\n",
            "VAL -- Balanced Accuracy: 0.34569843453275245\n"
          ]
        },
        {
          "name": "stderr",
          "output_type": "stream",
          "text": [
            "c:\\Users\\maddy\\AppData\\Local\\Programs\\Python\\Python312\\Lib\\site-packages\\sklearn\\metrics\\_classification.py:2480: UserWarning: y_pred contains classes not in y_true\n",
            "  warnings.warn(\"y_pred contains classes not in y_true\")\n"
          ]
        },
        {
          "name": "stdout",
          "output_type": "stream",
          "text": [
            "TRAIN -- Epoch 64, Loss: 0.2543, Balanced Accuracy: 0.6265\n",
            "VAL -- Balanced Accuracy: 0.3432183797011051\n"
          ]
        },
        {
          "name": "stderr",
          "output_type": "stream",
          "text": [
            "c:\\Users\\maddy\\AppData\\Local\\Programs\\Python\\Python312\\Lib\\site-packages\\sklearn\\metrics\\_classification.py:2480: UserWarning: y_pred contains classes not in y_true\n",
            "  warnings.warn(\"y_pred contains classes not in y_true\")\n"
          ]
        },
        {
          "name": "stdout",
          "output_type": "stream",
          "text": [
            "TRAIN -- Epoch 65, Loss: 0.2271, Balanced Accuracy: 0.5238\n",
            "VAL -- Balanced Accuracy: 0.3475382501653726\n",
            "TRAIN -- Epoch 66, Loss: 0.3293, Balanced Accuracy: 0.3529\n",
            "VAL -- Balanced Accuracy: 0.3301113878303624\n",
            "TRAIN -- Epoch 67, Loss: 0.2103, Balanced Accuracy: 0.5902\n",
            "VAL -- Balanced Accuracy: 0.3564149109234815\n",
            "TRAIN -- Epoch 68, Loss: 0.1793, Balanced Accuracy: 0.7091\n",
            "VAL -- Balanced Accuracy: 0.35849933156399194\n",
            "TRAIN -- Epoch 69, Loss: 0.3773, Balanced Accuracy: 0.6667\n",
            "VAL -- Balanced Accuracy: 0.3478758690582658\n",
            "TRAIN -- Epoch 70, Loss: 0.1087, Balanced Accuracy: 0.5802\n",
            "VAL -- Balanced Accuracy: 0.3364602835203753\n",
            "TRAIN -- Epoch 71, Loss: 0.2097, Balanced Accuracy: 0.4924\n",
            "VAL -- Balanced Accuracy: 0.36550967380425803\n"
          ]
        },
        {
          "name": "stderr",
          "output_type": "stream",
          "text": [
            "c:\\Users\\maddy\\AppData\\Local\\Programs\\Python\\Python312\\Lib\\site-packages\\sklearn\\metrics\\_classification.py:2480: UserWarning: y_pred contains classes not in y_true\n",
            "  warnings.warn(\"y_pred contains classes not in y_true\")\n"
          ]
        },
        {
          "name": "stdout",
          "output_type": "stream",
          "text": [
            "TRAIN -- Epoch 72, Loss: 0.1673, Balanced Accuracy: 0.7200\n",
            "VAL -- Balanced Accuracy: 0.3549158111222354\n"
          ]
        },
        {
          "name": "stderr",
          "output_type": "stream",
          "text": [
            "c:\\Users\\maddy\\AppData\\Local\\Programs\\Python\\Python312\\Lib\\site-packages\\sklearn\\metrics\\_classification.py:2480: UserWarning: y_pred contains classes not in y_true\n",
            "  warnings.warn(\"y_pred contains classes not in y_true\")\n"
          ]
        },
        {
          "name": "stdout",
          "output_type": "stream",
          "text": [
            "TRAIN -- Epoch 73, Loss: 0.1847, Balanced Accuracy: 0.6996\n",
            "VAL -- Balanced Accuracy: 0.3515401245636072\n",
            "TRAIN -- Epoch 74, Loss: 0.1581, Balanced Accuracy: 0.8095\n",
            "VAL -- Balanced Accuracy: 0.3615590678264002\n",
            "TRAIN -- Epoch 75, Loss: 0.1827, Balanced Accuracy: 0.7283\n",
            "VAL -- Balanced Accuracy: 0.3500524232183459\n"
          ]
        },
        {
          "name": "stderr",
          "output_type": "stream",
          "text": [
            "c:\\Users\\maddy\\AppData\\Local\\Programs\\Python\\Python312\\Lib\\site-packages\\sklearn\\metrics\\_classification.py:2480: UserWarning: y_pred contains classes not in y_true\n",
            "  warnings.warn(\"y_pred contains classes not in y_true\")\n"
          ]
        },
        {
          "name": "stdout",
          "output_type": "stream",
          "text": [
            "TRAIN -- Epoch 76, Loss: 0.0569, Balanced Accuracy: 0.7500\n",
            "VAL -- Balanced Accuracy: 0.3653552734834689\n"
          ]
        },
        {
          "name": "stderr",
          "output_type": "stream",
          "text": [
            "c:\\Users\\maddy\\AppData\\Local\\Programs\\Python\\Python312\\Lib\\site-packages\\sklearn\\metrics\\_classification.py:2480: UserWarning: y_pred contains classes not in y_true\n",
            "  warnings.warn(\"y_pred contains classes not in y_true\")\n"
          ]
        },
        {
          "name": "stdout",
          "output_type": "stream",
          "text": [
            "TRAIN -- Epoch 77, Loss: 0.0777, Balanced Accuracy: 0.6786\n",
            "VAL -- Balanced Accuracy: 0.3750432838277584\n",
            "TRAIN -- Epoch 78, Loss: 0.1053, Balanced Accuracy: 0.6667\n",
            "VAL -- Balanced Accuracy: 0.357707096464093\n"
          ]
        },
        {
          "name": "stderr",
          "output_type": "stream",
          "text": [
            "c:\\Users\\maddy\\AppData\\Local\\Programs\\Python\\Python312\\Lib\\site-packages\\sklearn\\metrics\\_classification.py:2480: UserWarning: y_pred contains classes not in y_true\n",
            "  warnings.warn(\"y_pred contains classes not in y_true\")\n"
          ]
        },
        {
          "name": "stdout",
          "output_type": "stream",
          "text": [
            "TRAIN -- Epoch 79, Loss: 0.0397, Balanced Accuracy: 0.5973\n",
            "VAL -- Balanced Accuracy: 0.3560966244152362\n",
            "TRAIN -- Epoch 80, Loss: 0.0969, Balanced Accuracy: 0.7903\n",
            "VAL -- Balanced Accuracy: 0.37621035298035754\n"
          ]
        },
        {
          "name": "stderr",
          "output_type": "stream",
          "text": [
            "c:\\Users\\maddy\\AppData\\Local\\Programs\\Python\\Python312\\Lib\\site-packages\\sklearn\\metrics\\_classification.py:2480: UserWarning: y_pred contains classes not in y_true\n",
            "  warnings.warn(\"y_pred contains classes not in y_true\")\n"
          ]
        },
        {
          "name": "stdout",
          "output_type": "stream",
          "text": [
            "TRAIN -- Epoch 81, Loss: 0.1232, Balanced Accuracy: 0.4722\n",
            "VAL -- Balanced Accuracy: 0.37685369615545256\n",
            "TRAIN -- Epoch 82, Loss: 0.2762, Balanced Accuracy: 0.7067\n",
            "VAL -- Balanced Accuracy: 0.37465096664144587\n"
          ]
        },
        {
          "name": "stderr",
          "output_type": "stream",
          "text": [
            "c:\\Users\\maddy\\AppData\\Local\\Programs\\Python\\Python312\\Lib\\site-packages\\sklearn\\metrics\\_classification.py:2480: UserWarning: y_pred contains classes not in y_true\n",
            "  warnings.warn(\"y_pred contains classes not in y_true\")\n"
          ]
        },
        {
          "name": "stdout",
          "output_type": "stream",
          "text": [
            "TRAIN -- Epoch 83, Loss: 0.0185, Balanced Accuracy: 0.6667\n",
            "VAL -- Balanced Accuracy: 0.381246581317054\n"
          ]
        },
        {
          "name": "stderr",
          "output_type": "stream",
          "text": [
            "c:\\Users\\maddy\\AppData\\Local\\Programs\\Python\\Python312\\Lib\\site-packages\\sklearn\\metrics\\_classification.py:2480: UserWarning: y_pred contains classes not in y_true\n",
            "  warnings.warn(\"y_pred contains classes not in y_true\")\n"
          ]
        },
        {
          "name": "stdout",
          "output_type": "stream",
          "text": [
            "TRAIN -- Epoch 84, Loss: 0.1785, Balanced Accuracy: 0.5026\n",
            "VAL -- Balanced Accuracy: 0.3812193574960922\n"
          ]
        },
        {
          "name": "stderr",
          "output_type": "stream",
          "text": [
            "c:\\Users\\maddy\\AppData\\Local\\Programs\\Python\\Python312\\Lib\\site-packages\\sklearn\\metrics\\_classification.py:2480: UserWarning: y_pred contains classes not in y_true\n",
            "  warnings.warn(\"y_pred contains classes not in y_true\")\n"
          ]
        },
        {
          "name": "stdout",
          "output_type": "stream",
          "text": [
            "TRAIN -- Epoch 85, Loss: 0.2071, Balanced Accuracy: 0.5357\n",
            "VAL -- Balanced Accuracy: 0.3758910153034442\n"
          ]
        },
        {
          "name": "stderr",
          "output_type": "stream",
          "text": [
            "c:\\Users\\maddy\\AppData\\Local\\Programs\\Python\\Python312\\Lib\\site-packages\\sklearn\\metrics\\_classification.py:2480: UserWarning: y_pred contains classes not in y_true\n",
            "  warnings.warn(\"y_pred contains classes not in y_true\")\n"
          ]
        },
        {
          "name": "stdout",
          "output_type": "stream",
          "text": [
            "TRAIN -- Epoch 86, Loss: 0.1446, Balanced Accuracy: 0.6165\n",
            "VAL -- Balanced Accuracy: 0.3750101675119923\n",
            "TRAIN -- Epoch 87, Loss: 0.0449, Balanced Accuracy: 0.8000\n",
            "VAL -- Balanced Accuracy: 0.39165291328734747\n"
          ]
        },
        {
          "name": "stderr",
          "output_type": "stream",
          "text": [
            "c:\\Users\\maddy\\AppData\\Local\\Programs\\Python\\Python312\\Lib\\site-packages\\sklearn\\metrics\\_classification.py:2480: UserWarning: y_pred contains classes not in y_true\n",
            "  warnings.warn(\"y_pred contains classes not in y_true\")\n"
          ]
        },
        {
          "name": "stdout",
          "output_type": "stream",
          "text": [
            "TRAIN -- Epoch 88, Loss: 0.1073, Balanced Accuracy: 0.4932\n",
            "VAL -- Balanced Accuracy: 0.3725302623708191\n"
          ]
        },
        {
          "name": "stderr",
          "output_type": "stream",
          "text": [
            "c:\\Users\\maddy\\AppData\\Local\\Programs\\Python\\Python312\\Lib\\site-packages\\sklearn\\metrics\\_classification.py:2480: UserWarning: y_pred contains classes not in y_true\n",
            "  warnings.warn(\"y_pred contains classes not in y_true\")\n"
          ]
        },
        {
          "name": "stdout",
          "output_type": "stream",
          "text": [
            "TRAIN -- Epoch 89, Loss: 0.0845, Balanced Accuracy: 0.5556\n",
            "VAL -- Balanced Accuracy: 0.3724699693292224\n",
            "TRAIN -- Epoch 90, Loss: 0.0922, Balanced Accuracy: 0.6597\n",
            "VAL -- Balanced Accuracy: 0.35993814292642323\n",
            "TRAIN -- Epoch 91, Loss: 0.2903, Balanced Accuracy: 0.5911\n",
            "VAL -- Balanced Accuracy: 0.3760786044838455\n",
            "TRAIN -- Epoch 92, Loss: 0.1024, Balanced Accuracy: 0.7303\n",
            "VAL -- Balanced Accuracy: 0.38267744250767116\n",
            "TRAIN -- Epoch 93, Loss: 0.0549, Balanced Accuracy: 0.7500\n",
            "VAL -- Balanced Accuracy: 0.3814226502345163\n",
            "TRAIN -- Epoch 94, Loss: 0.1182, Balanced Accuracy: 0.6000\n",
            "VAL -- Balanced Accuracy: 0.3749975936455801\n",
            "TRAIN -- Epoch 95, Loss: 0.1553, Balanced Accuracy: 0.7101\n",
            "VAL -- Balanced Accuracy: 0.3693388902132894\n",
            "TRAIN -- Epoch 96, Loss: 0.0820, Balanced Accuracy: 0.5965\n",
            "VAL -- Balanced Accuracy: 0.4016704307550451\n",
            "TRAIN -- Epoch 97, Loss: 0.0587, Balanced Accuracy: 0.7000\n",
            "VAL -- Balanced Accuracy: 0.3749828944279221\n",
            "TRAIN -- Epoch 98, Loss: 0.0982, Balanced Accuracy: 0.7500\n",
            "VAL -- Balanced Accuracy: 0.37666042534102623\n"
          ]
        },
        {
          "name": "stderr",
          "output_type": "stream",
          "text": [
            "c:\\Users\\maddy\\AppData\\Local\\Programs\\Python\\Python312\\Lib\\site-packages\\sklearn\\metrics\\_classification.py:2480: UserWarning: y_pred contains classes not in y_true\n",
            "  warnings.warn(\"y_pred contains classes not in y_true\")\n"
          ]
        },
        {
          "name": "stdout",
          "output_type": "stream",
          "text": [
            "TRAIN -- Epoch 99, Loss: 0.1024, Balanced Accuracy: 0.6667\n",
            "VAL -- Balanced Accuracy: 0.38530050624170986\n"
          ]
        },
        {
          "name": "stderr",
          "output_type": "stream",
          "text": [
            "c:\\Users\\maddy\\AppData\\Local\\Programs\\Python\\Python312\\Lib\\site-packages\\sklearn\\metrics\\_classification.py:2480: UserWarning: y_pred contains classes not in y_true\n",
            "  warnings.warn(\"y_pred contains classes not in y_true\")\n"
          ]
        },
        {
          "name": "stdout",
          "output_type": "stream",
          "text": [
            "TRAIN -- Epoch 100, Loss: 0.1056, Balanced Accuracy: 0.5644\n",
            "VAL -- Balanced Accuracy: 0.40029634421281296\n"
          ]
        },
        {
          "data": {
            "image/png": "[encoded data removed]",
            "text/plain": [
              "<Figure size 1200x500 with 1 Axes>"
            ]
          },
          "metadata": {},
          "output_type": "display_data"
        },
        {
          "data": {
            "image/png": "[encoded data removed]",
            "text/plain": [
              "<Figure size 640x480 with 1 Axes>"
            ]
          },
          "metadata": {},
          "output_type": "display_data"
        }
      ],
      "source": [
        "# Train and validate models \n",
        "\n",
        "# Parameters\n",
        "vocab_size = len(word_to_ix) # vocab size from word_to_ix\n",
        "embedding_dim = len(max(sentences, key=len)) # largest dimension of word embeddings\n",
        "output_dim = len(tag_to_ix)  # number of unique tags\n",
        "\n",
        "# Hyperparam for LSTM\n",
        "hidden_dim = 128  # hidden dimension of LSTM\n",
        "\n",
        "BiLSTM_NER = BiLSTM(vocab_size, embedding_dim, hidden_dim, output_dim)\n",
        "\n",
        "criterion = nn.CrossEntropyLoss(ignore_index = -100)  \n",
        "optimizer = optim.Adam(BiLSTM_NER.parameters(), lr=0.001)\n",
        "\n",
        "LSTM_acc = train_plots(BiLSTM_NER, 'BiLSTM', criterion, optimizer)\n",
        "\n",
        "# Hyper params for Transformer\n",
        "d_model = 128                         # smaller embedding size (128 is common)\n",
        "num_heads = 4                         # fewer heads since model is smaller\n",
        "num_layers = 2                        # 2 encoder layers is sufficient\n",
        "d_ff = 256                            # feedforward layer size\n",
        "dropout = 0.1                         # regularization to prevent overfitting\n",
        "\n",
        "\n",
        "transformer = TransformerNER(vocab_size, output_dim, d_model, num_heads, num_layers, d_ff, embedding_dim, dropout)\n",
        "\n",
        "criterion = nn.CrossEntropyLoss(ignore_index=-100)\n",
        "optimizer = optim.Adam(transformer.parameters(), lr=0.0001, betas=(0.9, 0.98), eps=1e-9)\n",
        "\n",
        "Transformer_acc = train_plots(transformer, 'Transformer', criterion, optimizer)"
      ]
    },
    {
      "cell_type": "markdown",
      "metadata": {
        "id": "3RBW58of0ZDo"
      },
      "source": [
        "---\n",
        "\n",
        "# 3. **Evaluate models**\n",
        "\n",
        "Here, you need to:\n",
        "\n",
        "1.\tevaluate the model (the best ones you obtained in the above stage).\n"
      ]
    },
    {
      "cell_type": "code",
      "execution_count": 249,
      "metadata": {
        "id": "jHWwdXg32BEl"
      },
      "outputs": [
        {
          "name": "stdout",
          "output_type": "stream",
          "text": [
            "dict_keys(['O', 'I-LOC', 'I-PER', 'I-ORG', 'I-MISC'])\n",
            "[   0    0    0 ... -100 -100 -100]\n",
            "[0 0 0 ... 0 0 0]\n",
            "(16811,)\n",
            "(16811,)\n"
          ]
        },
        {
          "ename": "ValueError",
          "evalue": "Number of classes, 6, does not match size of target_names, 5. Try specifying the labels parameter",
          "output_type": "error",
          "traceback": [
            "\u001b[1;31m---------------------------------------------------------------------------\u001b[0m",
            "\u001b[1;31mValueError\u001b[0m                                Traceback (most recent call last)",
            "Cell \u001b[1;32mIn[249], line 49\u001b[0m\n\u001b[0;32m     46\u001b[0m     best_model \u001b[38;5;241m=\u001b[39m transformer\n\u001b[0;32m     48\u001b[0m \u001b[38;5;28mprint\u001b[39m(tag_to_ix\u001b[38;5;241m.\u001b[39mkeys())\n\u001b[1;32m---> 49\u001b[0m df_results \u001b[38;5;241m=\u001b[39m \u001b[43mevaluate_model_with_metrics\u001b[49m\u001b[43m(\u001b[49m\u001b[43mbest_model\u001b[49m\u001b[43m,\u001b[49m\u001b[43m \u001b[49m\u001b[43mtest_dataloader\u001b[49m\u001b[43m,\u001b[49m\u001b[43m \u001b[49m\u001b[43mtag_to_ix\u001b[49m\u001b[38;5;241;43m.\u001b[39;49m\u001b[43mkeys\u001b[49m\u001b[43m(\u001b[49m\u001b[43m)\u001b[49m\u001b[43m)\u001b[49m\n\u001b[0;32m     51\u001b[0m \u001b[38;5;66;03m# Display results table\u001b[39;00m\n\u001b[0;32m     52\u001b[0m \u001b[38;5;28mprint\u001b[39m(df_results)\n",
            "Cell \u001b[1;32mIn[249], line 25\u001b[0m, in \u001b[0;36mevaluate_model_with_metrics\u001b[1;34m(model, test_loader, class_names)\u001b[0m\n\u001b[0;32m     22\u001b[0m \u001b[38;5;28mprint\u001b[39m(np\u001b[38;5;241m.\u001b[39mshape(all_preds))\n\u001b[0;32m     24\u001b[0m \u001b[38;5;66;03m# Generate classification report\u001b[39;00m\n\u001b[1;32m---> 25\u001b[0m report \u001b[38;5;241m=\u001b[39m \u001b[43mclassification_report\u001b[49m\u001b[43m(\u001b[49m\u001b[43mall_labels\u001b[49m\u001b[43m,\u001b[49m\u001b[43m \u001b[49m\u001b[43mall_preds\u001b[49m\u001b[43m,\u001b[49m\u001b[43m \u001b[49m\u001b[43mtarget_names\u001b[49m\u001b[38;5;241;43m=\u001b[39;49m\u001b[43mclass_names\u001b[49m\u001b[43m,\u001b[49m\u001b[43m \u001b[49m\u001b[43moutput_dict\u001b[49m\u001b[38;5;241;43m=\u001b[39;49m\u001b[38;5;28;43;01mTrue\u001b[39;49;00m\u001b[43m)\u001b[49m\n\u001b[0;32m     26\u001b[0m overall_accuracy \u001b[38;5;241m=\u001b[39m report[\u001b[38;5;124m'\u001b[39m\u001b[38;5;124maccuracy\u001b[39m\u001b[38;5;124m'\u001b[39m]\n\u001b[0;32m     27\u001b[0m \u001b[38;5;28mprint\u001b[39m(\u001b[38;5;124mf\u001b[39m\u001b[38;5;124m'\u001b[39m\u001b[38;5;124mOverall Accuracy: \u001b[39m\u001b[38;5;132;01m{\u001b[39;00moverall_accuracy\u001b[38;5;250m \u001b[39m\u001b[38;5;241m*\u001b[39m\u001b[38;5;250m \u001b[39m\u001b[38;5;241m100\u001b[39m\u001b[38;5;132;01m:\u001b[39;00m\u001b[38;5;124m.2f\u001b[39m\u001b[38;5;132;01m}\u001b[39;00m\u001b[38;5;124m%\u001b[39m\u001b[38;5;124m'\u001b[39m)\n",
            "File \u001b[1;32mc:\\Users\\maddy\\AppData\\Local\\Programs\\Python\\Python312\\Lib\\site-packages\\sklearn\\utils\\_param_validation.py:213\u001b[0m, in \u001b[0;36mvalidate_params.<locals>.decorator.<locals>.wrapper\u001b[1;34m(*args, **kwargs)\u001b[0m\n\u001b[0;32m    207\u001b[0m \u001b[38;5;28;01mtry\u001b[39;00m:\n\u001b[0;32m    208\u001b[0m     \u001b[38;5;28;01mwith\u001b[39;00m config_context(\n\u001b[0;32m    209\u001b[0m         skip_parameter_validation\u001b[38;5;241m=\u001b[39m(\n\u001b[0;32m    210\u001b[0m             prefer_skip_nested_validation \u001b[38;5;129;01mor\u001b[39;00m global_skip_validation\n\u001b[0;32m    211\u001b[0m         )\n\u001b[0;32m    212\u001b[0m     ):\n\u001b[1;32m--> 213\u001b[0m         \u001b[38;5;28;01mreturn\u001b[39;00m \u001b[43mfunc\u001b[49m\u001b[43m(\u001b[49m\u001b[38;5;241;43m*\u001b[39;49m\u001b[43margs\u001b[49m\u001b[43m,\u001b[49m\u001b[43m \u001b[49m\u001b[38;5;241;43m*\u001b[39;49m\u001b[38;5;241;43m*\u001b[39;49m\u001b[43mkwargs\u001b[49m\u001b[43m)\u001b[49m\n\u001b[0;32m    214\u001b[0m \u001b[38;5;28;01mexcept\u001b[39;00m InvalidParameterError \u001b[38;5;28;01mas\u001b[39;00m e:\n\u001b[0;32m    215\u001b[0m     \u001b[38;5;66;03m# When the function is just a wrapper around an estimator, we allow\u001b[39;00m\n\u001b[0;32m    216\u001b[0m     \u001b[38;5;66;03m# the function to delegate validation to the estimator, but we replace\u001b[39;00m\n\u001b[0;32m    217\u001b[0m     \u001b[38;5;66;03m# the name of the estimator by the name of the function in the error\u001b[39;00m\n\u001b[0;32m    218\u001b[0m     \u001b[38;5;66;03m# message to avoid confusion.\u001b[39;00m\n\u001b[0;32m    219\u001b[0m     msg \u001b[38;5;241m=\u001b[39m re\u001b[38;5;241m.\u001b[39msub(\n\u001b[0;32m    220\u001b[0m         \u001b[38;5;124mr\u001b[39m\u001b[38;5;124m\"\u001b[39m\u001b[38;5;124mparameter of \u001b[39m\u001b[38;5;124m\\\u001b[39m\u001b[38;5;124mw+ must be\u001b[39m\u001b[38;5;124m\"\u001b[39m,\n\u001b[0;32m    221\u001b[0m         \u001b[38;5;124mf\u001b[39m\u001b[38;5;124m\"\u001b[39m\u001b[38;5;124mparameter of \u001b[39m\u001b[38;5;132;01m{\u001b[39;00mfunc\u001b[38;5;241m.\u001b[39m\u001b[38;5;18m__qualname__\u001b[39m\u001b[38;5;132;01m}\u001b[39;00m\u001b[38;5;124m must be\u001b[39m\u001b[38;5;124m\"\u001b[39m,\n\u001b[0;32m    222\u001b[0m         \u001b[38;5;28mstr\u001b[39m(e),\n\u001b[0;32m    223\u001b[0m     )\n",
            "File \u001b[1;32mc:\\Users\\maddy\\AppData\\Local\\Programs\\Python\\Python312\\Lib\\site-packages\\sklearn\\metrics\\_classification.py:2648\u001b[0m, in \u001b[0;36mclassification_report\u001b[1;34m(y_true, y_pred, labels, target_names, sample_weight, digits, output_dict, zero_division)\u001b[0m\n\u001b[0;32m   2642\u001b[0m         warnings\u001b[38;5;241m.\u001b[39mwarn(\n\u001b[0;32m   2643\u001b[0m             \u001b[38;5;124m\"\u001b[39m\u001b[38;5;124mlabels size, \u001b[39m\u001b[38;5;132;01m{0}\u001b[39;00m\u001b[38;5;124m, does not match size of target_names, \u001b[39m\u001b[38;5;132;01m{1}\u001b[39;00m\u001b[38;5;124m\"\u001b[39m\u001b[38;5;241m.\u001b[39mformat(\n\u001b[0;32m   2644\u001b[0m                 \u001b[38;5;28mlen\u001b[39m(labels), \u001b[38;5;28mlen\u001b[39m(target_names)\n\u001b[0;32m   2645\u001b[0m             )\n\u001b[0;32m   2646\u001b[0m         )\n\u001b[0;32m   2647\u001b[0m     \u001b[38;5;28;01melse\u001b[39;00m:\n\u001b[1;32m-> 2648\u001b[0m         \u001b[38;5;28;01mraise\u001b[39;00m \u001b[38;5;167;01mValueError\u001b[39;00m(\n\u001b[0;32m   2649\u001b[0m             \u001b[38;5;124m\"\u001b[39m\u001b[38;5;124mNumber of classes, \u001b[39m\u001b[38;5;132;01m{0}\u001b[39;00m\u001b[38;5;124m, does not match size of \u001b[39m\u001b[38;5;124m\"\u001b[39m\n\u001b[0;32m   2650\u001b[0m             \u001b[38;5;124m\"\u001b[39m\u001b[38;5;124mtarget_names, \u001b[39m\u001b[38;5;132;01m{1}\u001b[39;00m\u001b[38;5;124m. Try specifying the labels \u001b[39m\u001b[38;5;124m\"\u001b[39m\n\u001b[0;32m   2651\u001b[0m             \u001b[38;5;124m\"\u001b[39m\u001b[38;5;124mparameter\u001b[39m\u001b[38;5;124m\"\u001b[39m\u001b[38;5;241m.\u001b[39mformat(\u001b[38;5;28mlen\u001b[39m(labels), \u001b[38;5;28mlen\u001b[39m(target_names))\n\u001b[0;32m   2652\u001b[0m         )\n\u001b[0;32m   2653\u001b[0m \u001b[38;5;28;01mif\u001b[39;00m target_names \u001b[38;5;129;01mis\u001b[39;00m \u001b[38;5;28;01mNone\u001b[39;00m:\n\u001b[0;32m   2654\u001b[0m     target_names \u001b[38;5;241m=\u001b[39m [\u001b[38;5;124m\"\u001b[39m\u001b[38;5;132;01m%s\u001b[39;00m\u001b[38;5;124m\"\u001b[39m \u001b[38;5;241m%\u001b[39m l \u001b[38;5;28;01mfor\u001b[39;00m l \u001b[38;5;129;01min\u001b[39;00m labels]\n",
            "\u001b[1;31mValueError\u001b[0m: Number of classes, 6, does not match size of target_names, 5. Try specifying the labels parameter"
          ]
        }
      ],
      "source": [
        "# Function to evaluate the model and generate reports\n",
        "def evaluate_model_with_metrics(model, test_loader, class_names):\n",
        "    model.eval()\n",
        "    all_preds = []\n",
        "    all_labels = []\n",
        "    \n",
        "    with torch.no_grad():\n",
        "        for sentences, labels in test_loader:\n",
        "            output = model(sentences)\n",
        "            all_preds.append(output.argmax(dim=-1).cpu().numpy())\n",
        "            all_labels.append(labels.view(-1).cpu().numpy())\n",
        "\n",
        "        all_preds = np.concatenate(all_preds, axis=0)\n",
        "        all_labels = np.concatenate(all_labels, axis=0)\n",
        "\n",
        "    # Compute the confusion matrix\n",
        "    cm = confusion_matrix(all_labels, all_preds)\n",
        "    print(all_labels)\n",
        "    print(all_preds)\n",
        "\n",
        "    print(np.shape(all_labels))\n",
        "    print(np.shape(all_preds))\n",
        "    \n",
        "    # Generate classification report\n",
        "    report = classification_report(all_labels, all_preds, target_names=class_names, output_dict=True)\n",
        "    overall_accuracy = report['accuracy']\n",
        "    print(f'Overall Accuracy: {overall_accuracy * 100:.2f}%')\n",
        "    \n",
        "    # Convert classification report to DataFrame\n",
        "    df_report = pd.DataFrame(report).transpose()\n",
        "    \n",
        "    # Plot confusion matrix\n",
        "    plt.figure(figsize=(10, 8))\n",
        "    sns.heatmap(cm, annot=True, fmt=\"d\", cmap=\"Blues\", xticklabels=class_names, yticklabels=class_names)\n",
        "    plt.xlabel(\"Predicted Label\")\n",
        "    plt.ylabel(\"True Label\")\n",
        "    plt.title(\"Confusion Matrix\")\n",
        "    plt.show()\n",
        "    \n",
        "    return df_report\n",
        "\n",
        "# Find the best model and call the function\n",
        "if LSTM_acc > Transformer_acc:\n",
        "    best_model = BiLSTM_NER\n",
        "else:\n",
        "    best_model = transformer\n",
        "\n",
        "print(tag_to_ix.keys())\n",
        "df_results = evaluate_model_with_metrics(best_model, test_dataloader, tag_to_ix.keys())\n",
        "\n",
        "# Display results table\n",
        "print(df_results)\n"
      ]
    }
  ],
  "metadata": {
    "colab": {
      "provenance": []
    },
    "kernelspec": {
      "display_name": "Python 3",
      "name": "python3"
    },
    "language_info": {
      "codemirror_mode": {
        "name": "ipython",
        "version": 3
      },
      "file_extension": ".py",
      "mimetype": "text/x-python",
      "name": "python",
      "nbconvert_exporter": "python",
      "pygments_lexer": "ipython3",
      "version": "3.12.6"
    }
  },
  "nbformat": 4,
  "nbformat_minor": 0
}
